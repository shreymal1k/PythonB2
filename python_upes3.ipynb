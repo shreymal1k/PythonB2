{
 "cells": [
  {
   "cell_type": "code",
   "execution_count": 1,
   "id": "2799ed76",
   "metadata": {},
   "outputs": [],
   "source": [
    "### write a function that take one variable as inpout and return it sum , cumulative sum, average , min and maximum value. implement this function using for loop.  define function documentation using docstring and show its uses"
   ]
  },
  {
   "cell_type": "code",
   "execution_count": 2,
   "id": "cf08fb21",
   "metadata": {},
   "outputs": [
    {
     "name": "stdout",
     "output_type": "stream",
     "text": [
      "Sum:  150\n",
      "Maximum in the list:  50\n",
      "Minimum in the list:  10\n",
      "Average of the list:  30.0\n"
     ]
    }
   ],
   "source": [
    "def calculate_values(list):\n",
    "    length = len(list)\n",
    "    sum = 0\n",
    "    for i in range (0,length):\n",
    "        sum = sum+list[i]\n",
    "    print(\"Sum: \", sum)\n",
    "    \n",
    "    max = list[0]\n",
    "    for i in range(1, length):\n",
    "        if(list[i]>max):\n",
    "            max = list[i]\n",
    "            \n",
    "    print(\"Maximum in the list: \", max)\n",
    "    \n",
    "    min = list[0]\n",
    "    for i in range(1, length):\n",
    "        if(list[i]<min):\n",
    "            min = list[i]\n",
    "            \n",
    "    print(\"Minimum in the list: \", min)\n",
    "    \n",
    "    average = sum/length\n",
    "    print(\"Average of the list: \", average)\n",
    "  \n",
    "    \n",
    "    \n",
    "l = [10, 20, 30, 40, 50]   \n",
    "calculate_values(l)"
   ]
  },
  {
   "cell_type": "code",
   "execution_count": 4,
   "id": "a2ec028d",
   "metadata": {},
   "outputs": [
    {
     "name": "stdout",
     "output_type": "stream",
     "text": [
      "Enter the number of elements you want in the lsit: 5\n",
      "Enter the 0Element in the list: 1\n",
      "Enter the 1Element in the list: 2\n",
      "Enter the 2Element in the list: 4\n",
      "Enter the 3Element in the list: 3\n",
      "Enter the 4Element in the list: 5\n",
      "[1, 2, 4, 3, 5]\n",
      "Sum:  15\n",
      "Maximum in the list:  5\n",
      "Minimum in the list:  1\n",
      "Average of the list:  3.0\n"
     ]
    }
   ],
   "source": [
    "def newlist():\n",
    "    length= int(input(\"Enter the number of elements you want in the lsit: \"))\n",
    "    list1=[]\n",
    "    for i in range(0, length):\n",
    "        number = int(input(f\"Enter the {i}Element in the list: \"))\n",
    "        list1.append(number)\n",
    "    print(list1)\n",
    "    calculate_values(list1)\n",
    "\n",
    "newlist()\n"
   ]
  },
  {
   "cell_type": "markdown",
   "id": "37c81747",
   "metadata": {},
   "source": []
  }
 ],
 "metadata": {
  "kernelspec": {
   "display_name": "Python 3 (ipykernel)",
   "language": "python",
   "name": "python3"
  },
  "language_info": {
   "codemirror_mode": {
    "name": "ipython",
    "version": 3
   },
   "file_extension": ".py",
   "mimetype": "text/x-python",
   "name": "python",
   "nbconvert_exporter": "python",
   "pygments_lexer": "ipython3",
   "version": "3.9.13"
  }
 },
 "nbformat": 4,
 "nbformat_minor": 5
}
