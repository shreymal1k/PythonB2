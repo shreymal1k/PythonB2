{
 "cells": [
  {
   "cell_type": "markdown",
   "id": "4bd4a604-a74a-4f52-afcf-6b2144900f09",
   "metadata": {},
   "source": [
    "# Unit 2\n",
    "# Tanuj Sanwal\n"
   ]
  },
  {
   "cell_type": "code",
   "execution_count": 9,
   "id": "301568c8-0d7f-4f09-8407-1df5d76c2e02",
   "metadata": {},
   "outputs": [
    {
     "name": "stdout",
     "output_type": "stream",
     "text": [
      "8\n"
     ]
    }
   ],
   "source": [
    "# Lambda function to add two numbers\n",
    "add=lambda a,b: a+b\n",
    "print(add(3,5)) # Output:8 Using a lambda function with map"
   ]
  },
  {
   "cell_type": "code",
   "execution_count": 27,
   "id": "4161652e-f58a-4ab5-b4fa-f7d9129dc1d8",
   "metadata": {},
   "outputs": [
    {
     "name": "stdout",
     "output_type": "stream",
     "text": [
      "90\n"
     ]
    }
   ],
   "source": [
    "\n",
    "num=lambda a,b: a*b\n",
    "print(num(10,9))"
   ]
  },
  {
   "cell_type": "markdown",
   "id": "d64dbb00-2a28-48a7-8987-4a1406098b0e",
   "metadata": {},
   "source": [
    "# Question 1:- Write a program using two Lambda Function"
   ]
  },
  {
   "cell_type": "code",
   "execution_count": 15,
   "id": "e7674a86-db3f-4ef5-8477-39648909c24f",
   "metadata": {},
   "outputs": [
    {
     "name": "stdout",
     "output_type": "stream",
     "text": [
      "[1, 4, 9, 16]\n"
     ]
    }
   ],
   "source": [
    "numbers=[1,2,3,4]\n",
    "squared=map(lambda x: x*x,  numbers)\n",
    "print(list(squared)) # Output:[1,4,9,16]"
   ]
  },
  {
   "cell_type": "code",
   "execution_count": 35,
   "id": "a8729123-134b-4055-af12-252350a78ccd",
   "metadata": {},
   "outputs": [
    {
     "name": "stdin",
     "output_type": "stream",
     "text": [
      "Enter First Number:- 20\n",
      "Enter Second NUmber :- 20\n"
     ]
    },
    {
     "name": "stdout",
     "output_type": "stream",
     "text": [
      "400\n"
     ]
    }
   ],
   "source": [
    "a=2\n",
    "b=5\n",
    "#  normal Function\n",
    "\n",
    "# def num(a,b):\n",
    "    #return a*b\n",
    "# using lambda\n",
    "def multiply(x,y)->int:\n",
    "    return x*y\n",
    "a=int(input(\"Enter First Number:-\"))\n",
    "b=int(input(\"Enter Second NUmber :-\"))\n",
    "\n",
    "value=multiply(a,b)\n",
    "print(value)\n"
   ]
  },
  {
   "cell_type": "markdown",
   "id": "42e730bc-4df3-4f7c-b558-a211505c1e3f",
   "metadata": {},
   "source": [
    "# Question 2:- Write a program to square each number in a list without using map and lambda"
   ]
  },
  {
   "cell_type": "code",
   "execution_count": 37,
   "id": "2d886e0c-4f8f-479e-9e07-73bdaba66735",
   "metadata": {},
   "outputs": [
    {
     "name": "stdout",
     "output_type": "stream",
     "text": [
      "[1, 4, 9, 16, 25, 36, 49, 64]\n"
     ]
    }
   ],
   "source": [
    "num=[1,2,3,4,5,6,7,8]\n",
    "num2=[]\n",
    "for i in num:\n",
    "    result=i*i\n",
    "    num2.append(result)\n",
    "print(num2)"
   ]
  },
  {
   "cell_type": "markdown",
   "id": "c90598fa-99ac-48ce-adf7-06bffb2d8bab",
   "metadata": {},
   "source": [
    "# Question 3:-  Write a program to square each number in a list without using map and lambda and return only even numbers"
   ]
  },
  {
   "cell_type": "code",
   "execution_count": 46,
   "id": "0a1751be-2e15-4705-b83c-d9c566a436b1",
   "metadata": {},
   "outputs": [
    {
     "name": "stdout",
     "output_type": "stream",
     "text": [
      "[4, 16, 36, 64, 100]\n"
     ]
    }
   ],
   "source": [
    "num=[1,2,3,4,5,6,7,8,9,10]\n",
    "num2=[]\n",
    "for i in num:\n",
    "    result=i*i\n",
    "    if result%2==0:\n",
    "        num2.append(result)\n",
    "print(num2)"
   ]
  },
  {
   "cell_type": "markdown",
   "id": "1e74ce35-9e80-4131-9290-cb055c1904f2",
   "metadata": {},
   "source": [
    "# Question4:- Write a program filter,map and lambda function"
   ]
  },
  {
   "cell_type": "code",
   "execution_count": 53,
   "id": "418a6b3f-f866-4522-8546-5a0aa0800a15",
   "metadata": {},
   "outputs": [
    {
     "name": "stdout",
     "output_type": "stream",
     "text": [
      "[1, 4, 9, 16, 25, 36]\n"
     ]
    }
   ],
   "source": [
    "# Using map to square each number\n",
    "numbers=[1,2,3,4,5,6]\n",
    "square=map(lambda x: x*x,numbers)\n",
    "print(list(square))"
   ]
  },
  {
   "cell_type": "code",
   "execution_count": 61,
   "id": "114d9652-2528-4208-adfe-9f2c366336fb",
   "metadata": {},
   "outputs": [
    {
     "name": "stdout",
     "output_type": "stream",
     "text": [
      "[2, 4, 6]\n"
     ]
    }
   ],
   "source": [
    "# Filter Function\n",
    "even=filter(lambda x:x%2==0,numbers)\n",
    "print(list(even))"
   ]
  },
  {
   "cell_type": "markdown",
   "id": "7f7dca27-e17b-4ec0-b2f7-f3435cdf0747",
   "metadata": {},
   "source": [
    "# Write a program create a list of square of even number from 0 to 9"
   ]
  },
  {
   "cell_type": "code",
   "execution_count": 55,
   "id": "d65d506b-a827-41da-a45d-0ee4b9928fde",
   "metadata": {},
   "outputs": [
    {
     "name": "stdout",
     "output_type": "stream",
     "text": [
      "[0, 4, 16, 36, 64]\n"
     ]
    }
   ],
   "source": [
    "\n",
    "square=[]\n",
    "for i in range(10):\n",
    "    if i%2==0:\n",
    "        square.append(i**2)\n",
    "print(square)"
   ]
  },
  {
   "cell_type": "markdown",
   "id": "8fff6e31-7dab-4572-9bfe-02954dc52492",
   "metadata": {},
   "source": [
    "# Write a program that take a list containing a sap id and return a list of email address"
   ]
  },
  {
   "cell_type": "code",
   "execution_count": 69,
   "id": "87d92466-c883-46f2-9214-7d3c958d7f62",
   "metadata": {},
   "outputs": [
    {
     "name": "stdin",
     "output_type": "stream",
     "text": [
      "Enter Your First Name: Tanuj\n",
      "Enter Your SapID:  590010145\n"
     ]
    },
    {
     "name": "stdout",
     "output_type": "stream",
     "text": [
      "Your Mail ID is :  Tanuj.10145@stu.upes.ac.in\n"
     ]
    }
   ],
   "source": [
    "Fname=input(\"Enter Your First Name:\")\n",
    "sapId=input(\"Enter Your SapID: \" )\n",
    "mail=\"@stu.upes.ac.in\"\n",
    "sapMail=name+\".\"+sapId[4:]+mail\n",
    "print(\"Your Mail ID is : \",sapMail)\n"
   ]
  },
  {
   "cell_type": "code",
   "execution_count": null,
   "id": "505428f2-4137-4e41-b3e9-8cf582feb849",
   "metadata": {},
   "outputs": [],
   "source": [
    "# write a program that take email address from user and message from user and using smdb lib send that message to all the email address in the list"
   ]
  },
  {
   "cell_type": "markdown",
   "id": "dea9ba23-80cf-4be4-93b5-a875c7b5b279",
   "metadata": {},
   "source": [
    "# Write program to print curernt time then pause from few seconds and again print current time"
   ]
  },
  {
   "cell_type": "code",
   "execution_count": 72,
   "id": "031b6a97-9697-4b50-95c7-3f15b437d523",
   "metadata": {},
   "outputs": [],
   "source": [
    "import time"
   ]
  },
  {
   "cell_type": "code",
   "execution_count": 80,
   "id": "e1891382-ece0-4dbd-ac8e-09a76e22ae74",
   "metadata": {},
   "outputs": [
    {
     "name": "stdout",
     "output_type": "stream",
     "text": [
      "Current time is : 1725939889.7349875\n"
     ]
    }
   ],
   "source": [
    "current_time=time.time()\n",
    "print(\"Current time is :\",current_time)"
   ]
  },
  {
   "cell_type": "code",
   "execution_count": 76,
   "id": "648ccbdb-2366-4a05-b164-ac050b7ba76d",
   "metadata": {},
   "outputs": [
    {
     "name": "stdout",
     "output_type": "stream",
     "text": [
      "Help on built-in module time:\n",
      "\n",
      "NAME\n",
      "    time - This module provides various functions to manipulate time values.\n",
      "\n",
      "DESCRIPTION\n",
      "    There are two standard representations of time.  One is the number\n",
      "    of seconds since the Epoch, in UTC (a.k.a. GMT).  It may be an integer\n",
      "    or a floating point number (to represent fractions of seconds).\n",
      "    The epoch is the point where the time starts, the return value of time.gmtime(0).\n",
      "    It is January 1, 1970, 00:00:00 (UTC) on all platforms.\n",
      "\n",
      "    The other representation is a tuple of 9 integers giving local time.\n",
      "    The tuple items are:\n",
      "      year (including century, e.g. 1998)\n",
      "      month (1-12)\n",
      "      day (1-31)\n",
      "      hours (0-23)\n",
      "      minutes (0-59)\n",
      "      seconds (0-59)\n",
      "      weekday (0-6, Monday is 0)\n",
      "      Julian day (day in the year, 1-366)\n",
      "      DST (Daylight Savings Time) flag (-1, 0 or 1)\n",
      "    If the DST flag is 0, the time is given in the regular time zone;\n",
      "    if it is 1, the time is given in the DST time zone;\n",
      "    if it is -1, mktime() should guess based on the date and time.\n",
      "\n",
      "CLASSES\n",
      "    builtins.tuple(builtins.object)\n",
      "        struct_time\n",
      "\n",
      "    class struct_time(builtins.tuple)\n",
      "     |  struct_time(iterable=(), /)\n",
      "     |\n",
      "     |  The time value as returned by gmtime(), localtime(), and strptime(), and\n",
      "     |  accepted by asctime(), mktime() and strftime().  May be considered as a\n",
      "     |  sequence of 9 integers.\n",
      "     |\n",
      "     |  Note that several fields' values are not the same as those defined by\n",
      "     |  the C language standard for struct tm.  For example, the value of the\n",
      "     |  field tm_year is the actual year, not year - 1900.  See individual\n",
      "     |  fields' descriptions for details.\n",
      "     |\n",
      "     |  Method resolution order:\n",
      "     |      struct_time\n",
      "     |      builtins.tuple\n",
      "     |      builtins.object\n",
      "     |\n",
      "     |  Methods defined here:\n",
      "     |\n",
      "     |  __reduce__(...)\n",
      "     |      Helper for pickle.\n",
      "     |\n",
      "     |  __repr__(self, /)\n",
      "     |      Return repr(self).\n",
      "     |\n",
      "     |  ----------------------------------------------------------------------\n",
      "     |  Static methods defined here:\n",
      "     |\n",
      "     |  __new__(*args, **kwargs)\n",
      "     |      Create and return a new object.  See help(type) for accurate signature.\n",
      "     |\n",
      "     |  ----------------------------------------------------------------------\n",
      "     |  Data descriptors defined here:\n",
      "     |\n",
      "     |  tm_gmtoff\n",
      "     |      offset from UTC in seconds\n",
      "     |\n",
      "     |  tm_hour\n",
      "     |      hours, range [0, 23]\n",
      "     |\n",
      "     |  tm_isdst\n",
      "     |      1 if summer time is in effect, 0 if not, and -1 if unknown\n",
      "     |\n",
      "     |  tm_mday\n",
      "     |      day of month, range [1, 31]\n",
      "     |\n",
      "     |  tm_min\n",
      "     |      minutes, range [0, 59]\n",
      "     |\n",
      "     |  tm_mon\n",
      "     |      month of year, range [1, 12]\n",
      "     |\n",
      "     |  tm_sec\n",
      "     |      seconds, range [0, 61])\n",
      "     |\n",
      "     |  tm_wday\n",
      "     |      day of week, range [0, 6], Monday is 0\n",
      "     |\n",
      "     |  tm_yday\n",
      "     |      day of year, range [1, 366]\n",
      "     |\n",
      "     |  tm_year\n",
      "     |      year, for example, 1993\n",
      "     |\n",
      "     |  tm_zone\n",
      "     |      abbreviation of timezone name\n",
      "     |\n",
      "     |  ----------------------------------------------------------------------\n",
      "     |  Data and other attributes defined here:\n",
      "     |\n",
      "     |  __match_args__ = ('tm_year', 'tm_mon', 'tm_mday', 'tm_hour', 'tm_min',...\n",
      "     |\n",
      "     |  n_fields = 11\n",
      "     |\n",
      "     |  n_sequence_fields = 9\n",
      "     |\n",
      "     |  n_unnamed_fields = 0\n",
      "     |\n",
      "     |  ----------------------------------------------------------------------\n",
      "     |  Methods inherited from builtins.tuple:\n",
      "     |\n",
      "     |  __add__(self, value, /)\n",
      "     |      Return self+value.\n",
      "     |\n",
      "     |  __contains__(self, key, /)\n",
      "     |      Return bool(key in self).\n",
      "     |\n",
      "     |  __eq__(self, value, /)\n",
      "     |      Return self==value.\n",
      "     |\n",
      "     |  __ge__(self, value, /)\n",
      "     |      Return self>=value.\n",
      "     |\n",
      "     |  __getattribute__(self, name, /)\n",
      "     |      Return getattr(self, name).\n",
      "     |\n",
      "     |  __getitem__(self, key, /)\n",
      "     |      Return self[key].\n",
      "     |\n",
      "     |  __getnewargs__(self, /)\n",
      "     |\n",
      "     |  __gt__(self, value, /)\n",
      "     |      Return self>value.\n",
      "     |\n",
      "     |  __hash__(self, /)\n",
      "     |      Return hash(self).\n",
      "     |\n",
      "     |  __iter__(self, /)\n",
      "     |      Implement iter(self).\n",
      "     |\n",
      "     |  __le__(self, value, /)\n",
      "     |      Return self<=value.\n",
      "     |\n",
      "     |  __len__(self, /)\n",
      "     |      Return len(self).\n",
      "     |\n",
      "     |  __lt__(self, value, /)\n",
      "     |      Return self<value.\n",
      "     |\n",
      "     |  __mul__(self, value, /)\n",
      "     |      Return self*value.\n",
      "     |\n",
      "     |  __ne__(self, value, /)\n",
      "     |      Return self!=value.\n",
      "     |\n",
      "     |  __rmul__(self, value, /)\n",
      "     |      Return value*self.\n",
      "     |\n",
      "     |  count(self, value, /)\n",
      "     |      Return number of occurrences of value.\n",
      "     |\n",
      "     |  index(self, value, start=0, stop=9223372036854775807, /)\n",
      "     |      Return first index of value.\n",
      "     |\n",
      "     |      Raises ValueError if the value is not present.\n",
      "     |\n",
      "     |  ----------------------------------------------------------------------\n",
      "     |  Class methods inherited from builtins.tuple:\n",
      "     |\n",
      "     |  __class_getitem__(...)\n",
      "     |      See PEP 585\n",
      "\n",
      "FUNCTIONS\n",
      "    asctime(...)\n",
      "        asctime([tuple]) -> string\n",
      "\n",
      "        Convert a time tuple to a string, e.g. 'Sat Jun 06 16:26:11 1998'.\n",
      "        When the time tuple is not present, current time as returned by localtime()\n",
      "        is used.\n",
      "\n",
      "    ctime(...)\n",
      "        ctime(seconds) -> string\n",
      "\n",
      "        Convert a time in seconds since the Epoch to a string in local time.\n",
      "        This is equivalent to asctime(localtime(seconds)). When the time tuple is\n",
      "        not present, current time as returned by localtime() is used.\n",
      "\n",
      "    get_clock_info(...)\n",
      "        get_clock_info(name: str) -> dict\n",
      "\n",
      "        Get information of the specified clock.\n",
      "\n",
      "    gmtime(...)\n",
      "        gmtime([seconds]) -> (tm_year, tm_mon, tm_mday, tm_hour, tm_min,\n",
      "                               tm_sec, tm_wday, tm_yday, tm_isdst)\n",
      "\n",
      "        Convert seconds since the Epoch to a time tuple expressing UTC (a.k.a.\n",
      "        GMT).  When 'seconds' is not passed in, convert the current time instead.\n",
      "\n",
      "        If the platform supports the tm_gmtoff and tm_zone, they are available as\n",
      "        attributes only.\n",
      "\n",
      "    localtime(...)\n",
      "        localtime([seconds]) -> (tm_year,tm_mon,tm_mday,tm_hour,tm_min,\n",
      "                                  tm_sec,tm_wday,tm_yday,tm_isdst)\n",
      "\n",
      "        Convert seconds since the Epoch to a time tuple expressing local time.\n",
      "        When 'seconds' is not passed in, convert the current time instead.\n",
      "\n",
      "    mktime(...)\n",
      "        mktime(tuple) -> floating point number\n",
      "\n",
      "        Convert a time tuple in local time to seconds since the Epoch.\n",
      "        Note that mktime(gmtime(0)) will not generally return zero for most\n",
      "        time zones; instead the returned value will either be equal to that\n",
      "        of the timezone or altzone attributes on the time module.\n",
      "\n",
      "    monotonic(...)\n",
      "        monotonic() -> float\n",
      "\n",
      "        Monotonic clock, cannot go backward.\n",
      "\n",
      "    monotonic_ns(...)\n",
      "        monotonic_ns() -> int\n",
      "\n",
      "        Monotonic clock, cannot go backward, as nanoseconds.\n",
      "\n",
      "    perf_counter(...)\n",
      "        perf_counter() -> float\n",
      "\n",
      "        Performance counter for benchmarking.\n",
      "\n",
      "    perf_counter_ns(...)\n",
      "        perf_counter_ns() -> int\n",
      "\n",
      "        Performance counter for benchmarking as nanoseconds.\n",
      "\n",
      "    process_time(...)\n",
      "        process_time() -> float\n",
      "\n",
      "        Process time for profiling: sum of the kernel and user-space CPU time.\n",
      "\n",
      "    process_time_ns(...)\n",
      "        process_time() -> int\n",
      "\n",
      "        Process time for profiling as nanoseconds:\n",
      "        sum of the kernel and user-space CPU time.\n",
      "\n",
      "    sleep(...)\n",
      "        sleep(seconds)\n",
      "\n",
      "        Delay execution for a given number of seconds.  The argument may be\n",
      "        a floating point number for subsecond precision.\n",
      "\n",
      "    strftime(...)\n",
      "        strftime(format[, tuple]) -> string\n",
      "\n",
      "        Convert a time tuple to a string according to a format specification.\n",
      "        See the library reference manual for formatting codes. When the time tuple\n",
      "        is not present, current time as returned by localtime() is used.\n",
      "\n",
      "        Commonly used format codes:\n",
      "\n",
      "        %Y  Year with century as a decimal number.\n",
      "        %m  Month as a decimal number [01,12].\n",
      "        %d  Day of the month as a decimal number [01,31].\n",
      "        %H  Hour (24-hour clock) as a decimal number [00,23].\n",
      "        %M  Minute as a decimal number [00,59].\n",
      "        %S  Second as a decimal number [00,61].\n",
      "        %z  Time zone offset from UTC.\n",
      "        %a  Locale's abbreviated weekday name.\n",
      "        %A  Locale's full weekday name.\n",
      "        %b  Locale's abbreviated month name.\n",
      "        %B  Locale's full month name.\n",
      "        %c  Locale's appropriate date and time representation.\n",
      "        %I  Hour (12-hour clock) as a decimal number [01,12].\n",
      "        %p  Locale's equivalent of either AM or PM.\n",
      "\n",
      "        Other codes may be available on your platform.  See documentation for\n",
      "        the C library strftime function.\n",
      "\n",
      "    strptime(...)\n",
      "        strptime(string, format) -> struct_time\n",
      "\n",
      "        Parse a string to a time tuple according to a format specification.\n",
      "        See the library reference manual for formatting codes (same as\n",
      "        strftime()).\n",
      "\n",
      "        Commonly used format codes:\n",
      "\n",
      "        %Y  Year with century as a decimal number.\n",
      "        %m  Month as a decimal number [01,12].\n",
      "        %d  Day of the month as a decimal number [01,31].\n",
      "        %H  Hour (24-hour clock) as a decimal number [00,23].\n",
      "        %M  Minute as a decimal number [00,59].\n",
      "        %S  Second as a decimal number [00,61].\n",
      "        %z  Time zone offset from UTC.\n",
      "        %a  Locale's abbreviated weekday name.\n",
      "        %A  Locale's full weekday name.\n",
      "        %b  Locale's abbreviated month name.\n",
      "        %B  Locale's full month name.\n",
      "        %c  Locale's appropriate date and time representation.\n",
      "        %I  Hour (12-hour clock) as a decimal number [01,12].\n",
      "        %p  Locale's equivalent of either AM or PM.\n",
      "\n",
      "        Other codes may be available on your platform.  See documentation for\n",
      "        the C library strftime function.\n",
      "\n",
      "    thread_time(...)\n",
      "        thread_time() -> float\n",
      "\n",
      "        Thread time for profiling: sum of the kernel and user-space CPU time.\n",
      "\n",
      "    thread_time_ns(...)\n",
      "        thread_time() -> int\n",
      "\n",
      "        Thread time for profiling as nanoseconds:\n",
      "        sum of the kernel and user-space CPU time.\n",
      "\n",
      "    time(...)\n",
      "        time() -> floating point number\n",
      "\n",
      "        Return the current time in seconds since the Epoch.\n",
      "        Fractions of a second may be present if the system clock provides them.\n",
      "\n",
      "    time_ns(...)\n",
      "        time_ns() -> int\n",
      "\n",
      "        Return the current time in nanoseconds since the Epoch.\n",
      "\n",
      "DATA\n",
      "    altzone = -23400\n",
      "    daylight = 0\n",
      "    timezone = -19800\n",
      "    tzname = ('India Standard Time', 'India Daylight Time')\n",
      "\n",
      "FILE\n",
      "    (built-in)\n",
      "\n",
      "\n"
     ]
    }
   ],
   "source": [
    "import time\n",
    "help(time)"
   ]
  },
  {
   "cell_type": "code",
   "execution_count": null,
   "id": "5efa064d-5724-4b1e-a03d-a95e7e9db7f6",
   "metadata": {},
   "outputs": [],
   "source": [
    "import time\n",
    "\n",
    "print(\"Start\")\n",
    "current_time = time.time()\n",
    "formatted_time = time.strftime('%H:%M:%S', time.localtime(current_time))\n",
    "print(\" Current time (HH:MM:SS):\", formatted_time)\n",
    "\n",
    "time.sleep(2)  # Pauses execution for 2 seconds\n",
    "\n",
    "print(\"End after 2 seconds\")\n",
    "current_time = time.time()\n",
    "formatted_time = time.strftime('%H:%M:%S', time.localtime(current_time))\n",
    "print(\"Current time (HH:MM:SS):\", formatted_time)"
   ]
  },
  {
   "cell_type": "code",
   "execution_count": null,
   "id": "55b7ef28-598f-423b-9b62-fd1a8263f3a6",
   "metadata": {},
   "outputs": [],
   "source": [
    "# Write a program that take directory address from the user and retuens a list of file and directory in that list"
   ]
  }
 ],
 "metadata": {
  "kernelspec": {
   "display_name": "Python 3 (ipykernel)",
   "language": "python",
   "name": "python3"
  },
  "language_info": {
   "codemirror_mode": {
    "name": "ipython",
    "version": 3
   },
   "file_extension": ".py",
   "mimetype": "text/x-python",
   "name": "python",
   "nbconvert_exporter": "python",
   "pygments_lexer": "ipython3",
   "version": "3.12.4"
  }
 },
 "nbformat": 4,
 "nbformat_minor": 5
}
