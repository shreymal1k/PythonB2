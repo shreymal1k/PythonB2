{
 "cells": [
  {
   "cell_type": "markdown",
   "id": "0bddc070-067a-4125-b9a3-dbf7c0f093f4",
   "metadata": {},
   "source": [
    "# Class:-13-09-2024"
   ]
  },
  {
   "cell_type": "code",
   "execution_count": 4,
   "id": "ddd97ac4-a65e-4ec9-925c-f1883fcde761",
   "metadata": {},
   "outputs": [
    {
     "name": "stdout",
     "output_type": "stream",
     "text": [
      "value of 10 \n"
     ]
    }
   ],
   "source": [
    "#try catch in python for error handling\n",
    "\n",
    "#print(f\"value of (a)\"\")\n",
    "\n",
    "a=10\n",
    "try:\n",
    "  print(f\"value of {a} \")\n",
    "except:\n",
    "  print(f\"Value of a does not exist\")"
   ]
  },
  {
   "cell_type": "code",
   "execution_count": 14,
   "id": "f4af0236-c365-4627-bae4-30fafb24f1f9",
   "metadata": {},
   "outputs": [
    {
     "name": "stdin",
     "output_type": "stream",
     "text": [
      "Enter the value of a: 21\n"
     ]
    },
    {
     "name": "stdout",
     "output_type": "stream",
     "text": [
      "Assertion is True\n"
     ]
    }
   ],
   "source": [
    "a=int(input(\"Enter the value of a:\"))\n",
    "b=20\n",
    "try:\n",
    "  assert a>b\n",
    "  print(\"Assertion is True\")\n",
    "except:\n",
    "  print(\"Assertion is False\")"
   ]
  },
  {
   "cell_type": "code",
   "execution_count": 16,
   "id": "d07277f9-f2b6-4afe-86ad-463bb02ac485",
   "metadata": {},
   "outputs": [
    {
     "name": "stdin",
     "output_type": "stream",
     "text": [
      "Enter First Number: 10\n",
      "Enter Second Number: 20\n"
     ]
    },
    {
     "name": "stdout",
     "output_type": "stream",
     "text": [
      "Division of 10 and 20 is 0.5\n"
     ]
    }
   ],
   "source": [
    "# Write a program that takes two values from user and returns division of first from second.\n",
    "num1=int(input(\"Enter First Number:\"))\n",
    "num2=int(input(\"Enter Second Number:\"))\n",
    "div=int(num1)/int(num2)\n",
    "print(f\"Division of {num1} and {num2} is {div}\")\n"
   ]
  },
  {
   "cell_type": "code",
   "execution_count": null,
   "id": "09da5c34-e228-42a9-aecd-e9155b855ef3",
   "metadata": {},
   "outputs": [],
   "source": []
  }
 ],
 "metadata": {
  "kernelspec": {
   "display_name": "Python 3 (ipykernel)",
   "language": "python",
   "name": "python3"
  },
  "language_info": {
   "codemirror_mode": {
    "name": "ipython",
    "version": 3
   },
   "file_extension": ".py",
   "mimetype": "text/x-python",
   "name": "python",
   "nbconvert_exporter": "python",
   "pygments_lexer": "ipython3",
   "version": "3.12.4"
  }
 },
 "nbformat": 4,
 "nbformat_minor": 5
}
