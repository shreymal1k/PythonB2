{
 "cells": [
  {
   "cell_type": "code",
   "execution_count": 3,
   "id": "5ef0d935-92a3-4eea-af58-36922112434c",
   "metadata": {},
   "outputs": [
    {
     "name": "stdout",
     "output_type": "stream",
     "text": [
      "Hello\n",
      "This is my First Program\n"
     ]
    }
   ],
   "source": [
    "print(\"Hello\")\n",
    "print(\"This is my First Program\")"
   ]
  },
  {
   "cell_type": "code",
   "execution_count": 5,
   "id": "01d4753b-80e7-4702-9680-d5ede1d8fb07",
   "metadata": {},
   "outputs": [
    {
     "name": "stdin",
     "output_type": "stream",
     "text": [
      "What is Your Name? Tanuj\n"
     ]
    }
   ],
   "source": [
    "name=input(\"What is Your Name?\")"
   ]
  },
  {
   "cell_type": "code",
   "execution_count": 21,
   "id": "1d7fe00b-0d54-41f8-ab9c-5438fdf4fcea",
   "metadata": {},
   "outputs": [
    {
     "name": "stdout",
     "output_type": "stream",
     "text": [
      "TSl\n"
     ]
    }
   ],
   "source": [
    "a=\"TanujSanwal\"\n",
    "print(a[::5])"
   ]
  },
  {
   "cell_type": "code",
   "execution_count": 43,
   "id": "ddb8e96f-08dc-4559-8aac-6821776fb50a",
   "metadata": {},
   "outputs": [
    {
     "name": "stdout",
     "output_type": "stream",
     "text": [
      "lawnaSjunaT\n"
     ]
    }
   ],
   "source": [
    "a=\"TanujSanwal\"\n",
    "print(a[-1::-1])"
   ]
  },
  {
   "cell_type": "code",
   "execution_count": 1,
   "id": "3400e964-16a4-4d42-a5f8-09abc8e758ea",
   "metadata": {},
   "outputs": [],
   "source": [
    "mystring=\"asdfghASDFGHJ\""
   ]
  },
  {
   "cell_type": "code",
   "execution_count": 7,
   "id": "3564598b-1c13-4661-abae-696176d0eae2",
   "metadata": {},
   "outputs": [
    {
     "data": {
      "text/plain": [
       "'ASDFGHASDFGHJ'"
      ]
     },
     "execution_count": 7,
     "metadata": {},
     "output_type": "execute_result"
    }
   ],
   "source": [
    "mystring.upper()\n",
    "\n"
   ]
  },
  {
   "cell_type": "code",
   "execution_count": 5,
   "id": "d8105a73-193e-4aea-812a-a9d5529bb17c",
   "metadata": {},
   "outputs": [
    {
     "data": {
      "text/plain": [
       "'asdfghasdfghj'"
      ]
     },
     "execution_count": 5,
     "metadata": {},
     "output_type": "execute_result"
    }
   ],
   "source": [
    "mystring.lower()"
   ]
  },
  {
   "cell_type": "code",
   "execution_count": 9,
   "id": "77c2c1c7-d7b1-4a85-8282-dd51e0741139",
   "metadata": {},
   "outputs": [
    {
     "data": {
      "text/plain": [
       "'bsdfghASDFGHJ'"
      ]
     },
     "execution_count": 9,
     "metadata": {},
     "output_type": "execute_result"
    }
   ],
   "source": [
    "mystring.replace(\"a\",\"b\")"
   ]
  },
  {
   "cell_type": "code",
   "execution_count": 75,
   "id": "ef443ff9-cacd-42ee-ab2b-f767b001b254",
   "metadata": {},
   "outputs": [],
   "source": [
    "str1=\"Hi\"\n",
    "str2=\"Class\"\n"
   ]
  },
  {
   "cell_type": "code",
   "execution_count": 17,
   "id": "604efb91-141b-41c1-89f2-760a0255b59f",
   "metadata": {},
   "outputs": [
    {
     "name": "stdout",
     "output_type": "stream",
     "text": [
      "Hi Class\n"
     ]
    }
   ],
   "source": [
    "print(str1+\" \"+str2)"
   ]
  },
  {
   "cell_type": "code",
   "execution_count": 23,
   "id": "f8a013c3-5461-4464-8524-fd52eaf407b3",
   "metadata": {},
   "outputs": [
    {
     "name": "stdout",
     "output_type": "stream",
     "text": [
      "HiHiHi\n"
     ]
    }
   ],
   "source": [
    "print(str1* 3 )"
   ]
  },
  {
   "cell_type": "code",
   "execution_count": 25,
   "id": "e6a7e897-58fe-457a-9644-c4afb3e47b46",
   "metadata": {},
   "outputs": [],
   "source": [
    "str3=\"0123456789\"\n"
   ]
  },
  {
   "cell_type": "code",
   "execution_count": 29,
   "id": "1b56cec3-7fc4-4c15-afe2-2814084cf889",
   "metadata": {},
   "outputs": [
    {
     "data": {
      "text/plain": [
       "'0123456789'"
      ]
     },
     "execution_count": 29,
     "metadata": {},
     "output_type": "execute_result"
    }
   ],
   "source": [
    "str3"
   ]
  },
  {
   "cell_type": "code",
   "execution_count": 31,
   "id": "d503a07a-bd58-4ced-91c0-7fd0816958df",
   "metadata": {},
   "outputs": [
    {
     "data": {
      "text/plain": [
       "10"
      ]
     },
     "execution_count": 31,
     "metadata": {},
     "output_type": "execute_result"
    }
   ],
   "source": [
    "len(str3)"
   ]
  },
  {
   "cell_type": "code",
   "execution_count": 37,
   "id": "4a4cf8f0-cf50-4df8-ad30-547e18562cd7",
   "metadata": {},
   "outputs": [
    {
     "data": {
      "text/plain": [
       "'0123456789'"
      ]
     },
     "execution_count": 37,
     "metadata": {},
     "output_type": "execute_result"
    }
   ],
   "source": [
    "str3[0:11]"
   ]
  },
  {
   "cell_type": "code",
   "execution_count": 47,
   "id": "7f1e3717-1b56-4557-abf0-a449341f1c10",
   "metadata": {},
   "outputs": [
    {
     "data": {
      "text/plain": [
       "'9'"
      ]
     },
     "execution_count": 47,
     "metadata": {},
     "output_type": "execute_result"
    }
   ],
   "source": [
    "str3[-1]"
   ]
  },
  {
   "cell_type": "code",
   "execution_count": 93,
   "id": "dd6af574-307d-447f-8317-2737e736ca55",
   "metadata": {},
   "outputs": [
    {
     "name": "stdout",
     "output_type": "stream",
     "text": [
      "C:\\Users\\sanwa\\Desktop\\Python 2024\\Git\\DsZeno\n"
     ]
    }
   ],
   "source": [
    "url=r\"C:\\Users\\sanwa\\Desktop\\Python 2024\\Git\\DsZeno\"\n",
    "\n",
    "print(url)"
   ]
  },
  {
   "cell_type": "code",
   "execution_count": 61,
   "id": "68b856e0-9cb5-4eaf-b8cf-97e2049bdc1d",
   "metadata": {},
   "outputs": [
    {
     "name": "stdin",
     "output_type": "stream",
     "text": [
      "Enter Your Name :  Tanuj\n"
     ]
    },
    {
     "name": "stdout",
     "output_type": "stream",
     "text": [
      "Hi Tanuj\n"
     ]
    }
   ],
   "source": [
    "name=input(\"Enter Your Name : \" )\n",
    "print(\"Hi \" + name)\n",
    "\n"
   ]
  },
  {
   "cell_type": "code",
   "execution_count": 81,
   "id": "ebdeb07c-a4e5-4a2a-8d63-9308211d246c",
   "metadata": {},
   "outputs": [],
   "source": [
    "stringwithplaceholder=\"Hi {} class{}\"\n",
    "    "
   ]
  },
  {
   "cell_type": "code",
   "execution_count": 79,
   "id": "905890b5-49a7-4de3-96f0-8969138501ac",
   "metadata": {},
   "outputs": [
    {
     "name": "stdout",
     "output_type": "stream",
     "text": [
      "Hi {} class{}\n"
     ]
    }
   ],
   "source": [
    "print(stringwithplaceholder)"
   ]
  },
  {
   "cell_type": "code",
   "execution_count": 85,
   "id": "bc73525f-7b73-4fba-a01f-a09a0415449d",
   "metadata": {},
   "outputs": [
    {
     "name": "stdout",
     "output_type": "stream",
     "text": [
      "Hi Tanuj classClass\n"
     ]
    }
   ],
   "source": [
    "print(stringwithplaceholder.format(name,str2))"
   ]
  },
  {
   "cell_type": "code",
   "execution_count": 87,
   "id": "06e7e156-9118-4066-bdf4-49f1c26901b2",
   "metadata": {},
   "outputs": [],
   "source": [
    "myclass=\"B1B2\""
   ]
  },
  {
   "cell_type": "code",
   "execution_count": 89,
   "id": "adbc191f-35cb-4670-a7da-a9ab34935452",
   "metadata": {},
   "outputs": [
    {
     "name": "stdout",
     "output_type": "stream",
     "text": [
      "Hi my name is Tanuj,my class is B1B2\n"
     ]
    }
   ],
   "source": [
    "print(f\"Hi my name is {name},my class is {myclass}\")"
   ]
  }
 ],
 "metadata": {
  "kernelspec": {
   "display_name": "Python 3 (ipykernel)",
   "language": "python",
   "name": "python3"
  },
  "language_info": {
   "codemirror_mode": {
    "name": "ipython",
    "version": 3
   },
   "file_extension": ".py",
   "mimetype": "text/x-python",
   "name": "python",
   "nbconvert_exporter": "python",
   "pygments_lexer": "ipython3",
   "version": "3.12.4"
  }
 },
 "nbformat": 4,
 "nbformat_minor": 5
}
