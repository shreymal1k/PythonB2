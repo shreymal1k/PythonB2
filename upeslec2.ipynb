{
 "cells": [
  {
   "cell_type": "markdown",
   "id": "db78150b",
   "metadata": {},
   "source": [
    "# date: 23/08/24"
   ]
  },
  {
   "cell_type": "code",
   "execution_count": 4,
   "id": "426a47df",
   "metadata": {},
   "outputs": [
    {
     "name": "stdout",
     "output_type": "stream",
     "text": [
      "Kumkum Malhotra\n",
      "<class 'str'>\n",
      "2300381675632\n",
      "Kumkum Malhotra\n",
      "<class 'str'>\n",
      "2300381675632\n"
     ]
    }
   ],
   "source": [
    "string = \"Kumkum Malhotra\"\n",
    "print(string)\n",
    "print(type(string))\n",
    "print(id(string))\n",
    "string.replace(\"Kumkum\", \"Kumm\")\n",
    "print(string)\n",
    "print(type(string))\n",
    "print(id(string))\n",
    "#since strings are immutable therefore the id of the variable doesnt change \n"
   ]
  },
  {
   "cell_type": "code",
   "execution_count": 6,
   "id": "8e4354b2",
   "metadata": {},
   "outputs": [
    {
     "name": "stdout",
     "output_type": "stream",
     "text": [
      "K\n",
      "a\n"
     ]
    }
   ],
   "source": [
    "#accessing the first index of the string\n",
    "print(string[0])\n",
    "\n",
    "#Accessing 9 character of the string\n",
    "print(string[8])"
   ]
  },
  {
   "cell_type": "markdown",
   "id": "d4c159bc",
   "metadata": {},
   "source": [
    "# TYPE CONVERSION"
   ]
  },
  {
   "cell_type": "code",
   "execution_count": 8,
   "id": "dbba86d1",
   "metadata": {},
   "outputs": [
    {
     "name": "stdout",
     "output_type": "stream",
     "text": [
      "9\n",
      "9.0\n",
      "False\n",
      "(9+0j)\n"
     ]
    }
   ],
   "source": [
    "a = 9.89\n",
    "print(int(a)) #convert into integer type\n",
    "\n",
    "b = 9\n",
    "print(float(b)) #convert into float type\n",
    "\n",
    "c = 0\n",
    "print(bool(c))\n",
    "\n",
    "d = 9\n",
    "print(complex(d))"
   ]
  },
  {
   "cell_type": "markdown",
   "id": "35b75839",
   "metadata": {},
   "source": [
    "# Numeric Functions"
   ]
  },
  {
   "cell_type": "code",
   "execution_count": 15,
   "id": "8e642549",
   "metadata": {},
   "outputs": [
    {
     "name": "stdout",
     "output_type": "stream",
     "text": [
      "1. ABSOLUTE VALUE\n",
      "21.0099876\n",
      "2. ROUND\n",
      "21.099\n",
      "3. POW\n",
      "8\n",
      "4. MAX\n",
      "40\n",
      "5. MIN\n",
      "4\n"
     ]
    }
   ],
   "source": [
    "print(\"1. ABSOLUTE VALUE\")\n",
    "x = -21.0099876\n",
    "print(abs(x)) #returns the absolute value\n",
    "\n",
    "print(\"2. ROUND\")\n",
    "x =  21.098765\n",
    "print(round(x, 3))#round x upto 3 decimal places\n",
    "\n",
    "print(\"3. POW\")\n",
    "print(pow(2,3))#returns 2 raises to the power 3\n",
    "\n",
    "print(\"4. MAX\") #returns maximum value\n",
    "print(max(10, 20, 30, 40))\n",
    "\n",
    "print(\"5. MIN\")\n",
    "print(min(10, 23, 89, 65, 4))#returns min value"
   ]
  },
  {
   "cell_type": "markdown",
   "id": "05ee2ac4",
   "metadata": {},
   "source": [
    "# INPUT FUNCTION"
   ]
  },
  {
   "cell_type": "code",
   "execution_count": 17,
   "id": "0ba690fd",
   "metadata": {},
   "outputs": [
    {
     "name": "stdout",
     "output_type": "stream",
     "text": [
      "Enter your name : Kumkum Malhotra\n",
      "Hello, Kumkum Malhotra\n",
      "My name is Kumkum Malhotra\n"
     ]
    }
   ],
   "source": [
    "name = input(\"Enter your name : \")\n",
    "print(\"Hello, \" + name)\n",
    "print(f\"My name is {name}\")"
   ]
  },
  {
   "cell_type": "code",
   "execution_count": 18,
   "id": "d1026e8d",
   "metadata": {},
   "outputs": [],
   "source": [
    "import sys"
   ]
  },
  {
   "cell_type": "code",
   "execution_count": 20,
   "id": "2186d255",
   "metadata": {},
   "outputs": [
    {
     "name": "stdout",
     "output_type": "stream",
     "text": [
      "Size: 28 bytes.\n"
     ]
    }
   ],
   "source": [
    "x = 42\n",
    "size = sys.getsizeof(x)\n",
    "print(f\"Size: {size} bytes.\")"
   ]
  },
  {
   "cell_type": "code",
   "execution_count": 21,
   "id": "fdb0ab7f",
   "metadata": {},
   "outputs": [
    {
     "name": "stdout",
     "output_type": "stream",
     "text": [
      "Size: 28 bytes\n",
      "Variable type: <class 'int'>\n",
      "Memory Location : 2300298292816\n"
     ]
    }
   ],
   "source": [
    "num = 87\n",
    "size = sys.getsizeof(x)\n",
    "variable_type = type(x)\n",
    "memoryLocation = id(x)\n",
    "\n",
    "print(f\"Size: {size} bytes\")\n",
    "print(f\"Variable type: {variable_type}\")\n",
    "print(f\"Memory Location : {memoryLocation}\")"
   ]
  },
  {
   "cell_type": "code",
   "execution_count": null,
   "id": "92e9aa5f",
   "metadata": {},
   "outputs": [],
   "source": []
  }
 ],
 "metadata": {
  "kernelspec": {
   "display_name": "Python 3 (ipykernel)",
   "language": "python",
   "name": "python3"
  },
  "language_info": {
   "codemirror_mode": {
    "name": "ipython",
    "version": 3
   },
   "file_extension": ".py",
   "mimetype": "text/x-python",
   "name": "python",
   "nbconvert_exporter": "python",
   "pygments_lexer": "ipython3",
   "version": "3.9.13"
  }
 },
 "nbformat": 4,
 "nbformat_minor": 5
}
