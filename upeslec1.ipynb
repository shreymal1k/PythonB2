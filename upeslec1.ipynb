{
 "cells": [
  {
   "cell_type": "code",
   "execution_count": 1,
   "id": "c387458c",
   "metadata": {},
   "outputs": [
    {
     "data": {
      "text/plain": [
       "4"
      ]
     },
     "execution_count": 1,
     "metadata": {},
     "output_type": "execute_result"
    }
   ],
   "source": [
    "2+2"
   ]
  },
  {
   "cell_type": "code",
   "execution_count": 2,
   "id": "799ddc50",
   "metadata": {},
   "outputs": [
    {
     "name": "stdout",
     "output_type": "stream",
     "text": [
      "Hello World\n"
     ]
    }
   ],
   "source": [
    "print(\"Hello World\")"
   ]
  },
  {
   "cell_type": "markdown",
   "id": "3bac0c72",
   "metadata": {},
   "source": [
    "# 1. DYNAMIC TYPE"
   ]
  },
  {
   "cell_type": "code",
   "execution_count": 3,
   "id": "85b125e2",
   "metadata": {},
   "outputs": [],
   "source": [
    "#doesnt need to declare the type of variable\n",
    "\n",
    "x = 7 #x is variable that store an integer value\n",
    "x = \"Hello\" #x is variable that stores the string value\n",
    "x = 9.08 #x is a variable that stores the float value"
   ]
  },
  {
   "cell_type": "markdown",
   "id": "4fcbf63d",
   "metadata": {},
   "source": [
    "# 2. BASIC SYNTAX"
   ]
  },
  {
   "cell_type": "code",
   "execution_count": 5,
   "id": "13ec3044",
   "metadata": {},
   "outputs": [
    {
     "name": "stdout",
     "output_type": "stream",
     "text": [
      "10 is greater than 8\n"
     ]
    }
   ],
   "source": [
    "if 10>8:\n",
    "    print(\"10 is greater than 8\")"
   ]
  },
  {
   "cell_type": "markdown",
   "id": "d01da559",
   "metadata": {},
   "source": [
    "# 3. COMMENTS"
   ]
  },
  {
   "cell_type": "code",
   "execution_count": 6,
   "id": "a034f053",
   "metadata": {},
   "outputs": [],
   "source": [
    "#this is a single line comment"
   ]
  },
  {
   "cell_type": "markdown",
   "id": "661699c2",
   "metadata": {},
   "source": [
    "# 4. STRING"
   ]
  },
  {
   "cell_type": "code",
   "execution_count": 13,
   "id": "d60870fc",
   "metadata": {},
   "outputs": [
    {
     "name": "stdout",
     "output_type": "stream",
     "text": [
      "Kumkum Malhotra\n",
      "<class 'str'>\n"
     ]
    }
   ],
   "source": [
    "name = \"Kumkum Malhotra\" #created a variable, name\n",
    "print(name) #printing the variable\n",
    "print(type(name)) #printing the type of variable"
   ]
  },
  {
   "cell_type": "markdown",
   "id": "d1377a1d",
   "metadata": {},
   "source": [
    "# 5. STRING METHOD"
   ]
  },
  {
   "cell_type": "code",
   "execution_count": 18,
   "id": "d5494470",
   "metadata": {},
   "outputs": [
    {
     "name": "stdout",
     "output_type": "stream",
     "text": [
      "kumkum malhotra\n",
      "KUMKUM MALHOTRA\n",
      "Kumm Malhotra\n"
     ]
    }
   ],
   "source": [
    "#Lowercase function\n",
    "print(name.lower())\n",
    "\n",
    "#Uppercase function\n",
    "print(name.upper())\n",
    "\n",
    "#replace function\n",
    "print(name.replace(\"Kumkum\", \"Kumm\"))\n"
   ]
  },
  {
   "cell_type": "markdown",
   "id": "ed16a7bb",
   "metadata": {},
   "source": [
    "# 6. STRING OPERATOR"
   ]
  },
  {
   "cell_type": "code",
   "execution_count": 19,
   "id": "0d178a14",
   "metadata": {},
   "outputs": [
    {
     "name": "stdout",
     "output_type": "stream",
     "text": [
      "1. COCATENATION OPERATOR\n",
      "Hello Kumkum\n"
     ]
    }
   ],
   "source": [
    "print(\"1. COCATENATION OPERATOR\")\n",
    "\n",
    "str1 = \"Hello\"\n",
    "str2 = \"Kumkum\"\n",
    "\n",
    "print(str1 + \" \" +str2)#use to join the two string together"
   ]
  },
  {
   "cell_type": "code",
   "execution_count": 21,
   "id": "1584f4d1",
   "metadata": {},
   "outputs": [
    {
     "name": "stdout",
     "output_type": "stream",
     "text": [
      "2. REPITION OPERATOR\n"
     ]
    },
    {
     "data": {
      "text/plain": [
       "'HelloHelloHello'"
      ]
     },
     "execution_count": 21,
     "metadata": {},
     "output_type": "execute_result"
    }
   ],
   "source": [
    "print(\"2. REPITION OPERATOR\")\n",
    "\n",
    "str1 *3#repeat the string specified number of times"
   ]
  },
  {
   "cell_type": "code",
   "execution_count": 22,
   "id": "80cc1d0b",
   "metadata": {},
   "outputs": [
    {
     "name": "stdout",
     "output_type": "stream",
     "text": [
      "3. MEMBERSHIP OPERATOR\n",
      "False\n",
      "True\n",
      "True\n",
      "False\n"
     ]
    }
   ],
   "source": [
    "print(\"3. MEMBERSHIP OPERATOR\")\n",
    "#check whether the substring is present or not in the string\n",
    "\n",
    "string = \"Hello, World!!!!\"\n",
    "\n",
    "print(\"world\" in string)#case sensitive\n",
    "print(\"World\" in string)\n",
    "print(\"world\" not in string)\n",
    "print(\"World\" not in string)"
   ]
  },
  {
   "cell_type": "code",
   "execution_count": 28,
   "id": "77327344",
   "metadata": {},
   "outputs": [
    {
     "name": "stdout",
     "output_type": "stream",
     "text": [
      "4. SLICE OPERATOR\n",
      "Kumkum Malhotra\n",
      "Kumkum Malhotra\n",
      "Kumkum\n",
      "Kumkum Ma\n",
      " Mal\n"
     ]
    }
   ],
   "source": [
    "print(\"4. SLICE OPERATOR\")\n",
    "\n",
    "string = \"Kumkum Malhotra\"\n",
    "print(string[:]) #print the entire string\n",
    "print(string[0:]) #print the string from the index mention till end \n",
    "print(string[0:6]) #6 is excluded\n",
    "print(string[:9])#print string from the starting till one less than mentioned index\n",
    "print(string[-9:-5])"
   ]
  },
  {
   "cell_type": "code",
   "execution_count": 29,
   "id": "5f87d781",
   "metadata": {},
   "outputs": [
    {
     "name": "stdout",
     "output_type": "stream",
     "text": [
      "5. COMPARISON OPERATOR\n",
      "False\n",
      "True\n"
     ]
    }
   ],
   "source": [
    "print(\"5. COMPARISON OPERATOR\")\n",
    "\n",
    "fruit1 = \"Apple\"\n",
    "fruit2 = \"Orange\"\n",
    "\n",
    "print(fruit1 == fruit2) #check whether the two variables are same \n",
    "print(fruit2>fruit1)#print true if o>a"
   ]
  },
  {
   "cell_type": "code",
   "execution_count": 38,
   "id": "c86cd6fd",
   "metadata": {},
   "outputs": [
    {
     "name": "stdout",
     "output_type": "stream",
     "text": [
      "6.ESCAPE CHARACTERS\n",
      "Hi \n",
      "What's your name?? \n",
      "My name is kumkum\n",
      "hi!! \"SALUT\"\n"
     ]
    }
   ],
   "source": [
    "print(\"6.ESCAPE CHARACTERS\")\n",
    "\n",
    "print(\"Hi \\nWhat's your name?? \\nMy name is kumkum\")\n",
    "print(\"hi!! \\\"SALUT\\\"\")"
   ]
  },
  {
   "cell_type": "code",
   "execution_count": 34,
   "id": "7fc43c9a",
   "metadata": {},
   "outputs": [
    {
     "name": "stdout",
     "output_type": "stream",
     "text": [
      "7. RAW STRING \n",
      "C ChapterWise Notes/Chapter 2/\n"
     ]
    }
   ],
   "source": [
    "print(\"7. RAW STRING \")\n",
    "\n",
    "url = \"C ChapterWise Notes/Chapter 2/\"\n",
    "print(url)"
   ]
  },
  {
   "cell_type": "code",
   "execution_count": 36,
   "id": "cca73196",
   "metadata": {},
   "outputs": [
    {
     "name": "stdout",
     "output_type": "stream",
     "text": [
      "8. STRING FORMATTING\n",
      "My name is Kumkum\n"
     ]
    }
   ],
   "source": [
    "print(\"8. STRING FORMATTING\")\n",
    "name = \"Kumkum\"\n",
    "print(f\"My name is {name}\")"
   ]
  },
  {
   "cell_type": "code",
   "execution_count": 37,
   "id": "931f234c",
   "metadata": {},
   "outputs": [
    {
     "name": "stdout",
     "output_type": "stream",
     "text": [
      "9. LENGTH OPERATOR\n",
      "5\n"
     ]
    }
   ],
   "source": [
    "print(\"9. LENGTH OPERATOR\")\n",
    "\n",
    "fruit = \"APPLE\"\n",
    "print(len(fruit))"
   ]
  },
  {
   "cell_type": "markdown",
   "id": "11ac0c26",
   "metadata": {},
   "source": [
    "# NUMERIC OPERATION"
   ]
  },
  {
   "cell_type": "code",
   "execution_count": 39,
   "id": "2d69b4ae",
   "metadata": {},
   "outputs": [
    {
     "name": "stdout",
     "output_type": "stream",
     "text": [
      "Operations\n",
      "Addition  19\n",
      "Subtraction  11\n",
      "Multiplication  60\n",
      "Divison  3.75\n",
      "Modulus  3\n",
      "Floor division:  3\n",
      "Exponentiation :  8\n"
     ]
    }
   ],
   "source": [
    "print(\"Operations\")\n",
    "a = 15\n",
    "b = 4\n",
    "print(\"Addition \",a+b )\n",
    "print(\"Subtraction \",a-b )\n",
    "print(\"Multiplication \",a*b )\n",
    "print(\"Divison \",a/b )\n",
    "print(\"Modulus \",a%b )\n",
    "print(\"Floor division: \",a//b )\n",
    "print(\"Exponentiation : \", 2**3)"
   ]
  },
  {
   "cell_type": "code",
   "execution_count": null,
   "id": "b8b0f6ee",
   "metadata": {},
   "outputs": [],
   "source": []
  }
 ],
 "metadata": {
  "kernelspec": {
   "display_name": "Python 3 (ipykernel)",
   "language": "python",
   "name": "python3"
  },
  "language_info": {
   "codemirror_mode": {
    "name": "ipython",
    "version": 3
   },
   "file_extension": ".py",
   "mimetype": "text/x-python",
   "name": "python",
   "nbconvert_exporter": "python",
   "pygments_lexer": "ipython3",
   "version": "3.9.13"
  }
 },
 "nbformat": 4,
 "nbformat_minor": 5
}
