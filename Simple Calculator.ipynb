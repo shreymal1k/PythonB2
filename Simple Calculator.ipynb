{
 "cells": [
  {
   "cell_type": "markdown",
   "id": "7a64e3cc",
   "metadata": {},
   "source": [
    "# Simple Calculator\n"
   ]
  },
  {
   "cell_type": "code",
   "execution_count": 1,
   "id": "bc5562c3",
   "metadata": {},
   "outputs": [
    {
     "name": "stdout",
     "output_type": "stream",
     "text": [
      "Simple Calculator\n",
      "Select an operation:\n",
      "1. Addition (+)\n",
      "2. Subtraction (-)\n",
      "3. Multiplication (*)\n",
      "4. Division (/)\n",
      "The result of 59.0 + 34.0 = 93.0\n",
      "The result of 45.0 / 32.0 = 1.40625\n",
      "Invalid input. Please enter numeric values.\n",
      "Goodbye!\n"
     ]
    }
   ],
   "source": [
    "def calculator():\n",
    "    print(\"Simple Calculator\")\n",
    "    print(\"Select an operation:\")\n",
    "    print(\"1. Addition (+)\")\n",
    "    print(\"2. Subtraction (-)\")\n",
    "    print(\"3. Multiplication (*)\")\n",
    "    print(\"4. Division (/)\")\n",
    "\n",
    "    while True:\n",
    "        try:\n",
    "            # Take user input for operation\n",
    "            choice = input(\"Enter choice (1/2/3/4): \")\n",
    "\n",
    "            if choice not in ['1', '2', '3', '4']:\n",
    "                print(\"Invalid input. Please select a valid option.\")\n",
    "                continue\n",
    "\n",
    "            # Take user input for numbers\n",
    "            num1 = float(input(\"Enter the first number: \"))\n",
    "            num2 = float(input(\"Enter the second number: \"))\n",
    "\n",
    "            # Perform operation based on user choice\n",
    "            if choice == '1':\n",
    "                result = num1 + num2\n",
    "                operation = '+'\n",
    "            elif choice == '2':\n",
    "                result = num1 - num2\n",
    "                operation = '-'\n",
    "            elif choice == '3':\n",
    "                result = num1 * num2\n",
    "                operation = '*'\n",
    "            elif choice == '4':\n",
    "                if num2 == 0:\n",
    "                    print(\"Error: Division by zero is not allowed.\")\n",
    "                    continue\n",
    "                result = num1 / num2\n",
    "                operation = '/'\n",
    "\n",
    "            print(f\"The result of {num1} {operation} {num2} = {result}\")\n",
    "        except ValueError:\n",
    "            print(\"Invalid input. Please enter numeric values.\")\n",
    "\n",
    "        # Ask user if they want to perform another calculation\n",
    "        next_calculation = input(\"Do you want to perform another calculation? (yes/no): \").lower()\n",
    "        if next_calculation != 'yes':\n",
    "            print(\"Goodbye!\")\n",
    "            break\n",
    "\n",
    "\n",
    "# Run the calculator\n",
    "calculator()\n"
   ]
  }
 ],
 "metadata": {
  "kernelspec": {
   "display_name": "base",
   "language": "python",
   "name": "python3"
  },
  "language_info": {
   "codemirror_mode": {
    "name": "ipython",
    "version": 3
   },
   "file_extension": ".py",
   "mimetype": "text/x-python",
   "name": "python",
   "nbconvert_exporter": "python",
   "pygments_lexer": "ipython3",
   "version": "3.12.4"
  }
 },
 "nbformat": 4,
 "nbformat_minor": 5
}
