def calculator():
    print("Simple Calculator")
    print("Select an operation:")
    print("1. Addition (+)")
    print("2. Subtraction (-)")
    print("3. Multiplication (*)")
    print("4. Division (/)")

    while True:
        try:
            # Take user input for operation
            choice = input("Enter choice (1/2/3/4): ")

            if choice not in ['1', '2', '3', '4']:
                print("Invalid input. Please select a valid option.")
                continue

            # Take user input for numbers
            num1 = float(input("Enter the first number: "))
            num2 = float(input("Enter the second number: "))

            # Perform operation based on user choice
            if choice == '1':
                result = num1 + num2
                operation = '+'
            elif choice == '2':
                result = num1 - num2
                operation = '-'
            elif choice == '3':
                result = num1 * num2
                operation = '*'
            elif choice == '4':
                if num2 == 0:
                    print("Error: Division by zero is not allowed.")
                    continue
                result = num1 / num2
                operation = '/'

            print(f"The result of {num1} {operation} {num2} = {result}")
        except ValueError:
            print("Invalid input. Please enter numeric values.")

        # Ask user if they want to perform another calculation
        next_calculation = input("Do you want to perform another calculation? (yes/no): ").lower()
        if next_calculation != 'yes':
            print("Goodbye!")
            break


# Run the calculator
calculator()
