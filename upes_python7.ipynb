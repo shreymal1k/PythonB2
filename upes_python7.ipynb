{
 "cells": [
  {
   "cell_type": "code",
   "execution_count": 2,
   "id": "6f16479d",
   "metadata": {},
   "outputs": [
    {
     "data": {
      "text/plain": [
       "['12345@stu.upes.ac.in', '23456@stu.upes.ac.in', '34567@stu.upes.ac.in']"
      ]
     },
     "execution_count": 2,
     "metadata": {},
     "output_type": "execute_result"
    }
   ],
   "source": [
    "sapids = [12345,23456,34567]\n",
    "def id2email(id):\n",
    "    return f\"{id}@stu.upes.ac.in\"\n",
    "\n",
    "emails = []\n",
    "for id in sapids:\n",
    "    email = id2email(id)\n",
    "    emails.append(email)\n",
    "    \n",
    "list_of_emails = emails\n",
    "list_of_emails"
   ]
  },
  {
   "cell_type": "code",
   "execution_count": 4,
   "id": "4ac149ae",
   "metadata": {},
   "outputs": [
    {
     "data": {
      "text/plain": [
       "['12345@stu.upes.ac.in', '23456@stu.upes.ac.in', '34567@stu.upes.ac.in']"
      ]
     },
     "execution_count": 4,
     "metadata": {},
     "output_type": "execute_result"
    }
   ],
   "source": [
    "sapids = [12345,23456,34567]\n",
    "def id2email(id):\n",
    "    return str(id) + \"@stu.upes.ac.in\"\n",
    "list_of_emails = map(id2email, sapids)\n",
    "list_of_emails = list(map(id2email, sapids))\n",
    "list_of_emails"
   ]
  },
  {
   "cell_type": "code",
   "execution_count": 7,
   "id": "c576af54",
   "metadata": {},
   "outputs": [
    {
     "name": "stdout",
     "output_type": "stream",
     "text": [
      "Enter the first number : 6\n",
      "Enter the second number: 3\n",
      "Division of 6/3 is 2.0\n"
     ]
    }
   ],
   "source": [
    "#write a  program that takes two valuesfrom user and returns division of first from second\n",
    "a = int(input(\"Enter the first number : \"))\n",
    "b = int(input(\"Enter the second number: \"))\n",
    "\n",
    "def div(a, b):\n",
    "    assert b != 0\n",
    "    return a/b\n",
    "\n",
    "print(f\"Division of {a}/{b} is {div(a,b)}\")"
   ]
  },
  {
   "cell_type": "code",
   "execution_count": null,
   "id": "bdb73a62",
   "metadata": {},
   "outputs": [],
   "source": []
  }
 ],
 "metadata": {
  "kernelspec": {
   "display_name": "Python 3 (ipykernel)",
   "language": "python",
   "name": "python3"
  },
  "language_info": {
   "codemirror_mode": {
    "name": "ipython",
    "version": 3
   },
   "file_extension": ".py",
   "mimetype": "text/x-python",
   "name": "python",
   "nbconvert_exporter": "python",
   "pygments_lexer": "ipython3",
   "version": "3.9.13"
  }
 },
 "nbformat": 4,
 "nbformat_minor": 5
}
