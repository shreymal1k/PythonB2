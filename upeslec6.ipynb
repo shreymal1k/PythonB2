{
 "cells": [
  {
   "cell_type": "markdown",
   "id": "c0c37b2d",
   "metadata": {},
   "source": [
    "# LECTURE 6 04/09/24"
   ]
  },
  {
   "cell_type": "markdown",
   "id": "a1220f83",
   "metadata": {},
   "source": [
    "write a function that take one variable as inpout and return it sum , cumulative sum, average , min and maximum value. implement this function using for loop.  define function documentation using docstring and show its uses"
   ]
  },
  {
   "cell_type": "code",
   "execution_count": 1,
   "id": "68c13a79",
   "metadata": {},
   "outputs": [
    {
     "name": "stdout",
     "output_type": "stream",
     "text": [
      "Sum:  150\n",
      "Maximum in the list:  50\n",
      "Minimum in the list:  10\n",
      "Average of the list:  30.0\n",
      "Cummulative Sum:  [10, 30, 60, 100, 150]\n"
     ]
    }
   ],
   "source": [
    "def calculate_values(list):\n",
    "    length = len(list)\n",
    "    sum = 0\n",
    "    for i in range (0,length):\n",
    "        sum = sum+list[i]\n",
    "    print(\"Sum: \", sum)\n",
    "    \n",
    "    max = list[0]\n",
    "    for i in range(1, length):\n",
    "        if(list[i]>max):\n",
    "            max = list[i]\n",
    "            \n",
    "    print(\"Maximum in the list: \", max)\n",
    "    \n",
    "    min = list[0]\n",
    "    for i in range(1, length):\n",
    "        if(list[i]<min):\n",
    "            min = list[i]\n",
    "            \n",
    "    print(\"Minimum in the list: \", min)\n",
    "    \n",
    "    average = sum/length\n",
    "    print(\"Average of the list: \", average)\n",
    "    \n",
    "    total = 0\n",
    "    list2= []\n",
    "    \n",
    "    for i in list:\n",
    "        total = total + i\n",
    "        list2.append(total)\n",
    "        \n",
    "    print(\"Cummulative Sum: \", list2)\n",
    "        \n",
    "  \n",
    "    \n",
    "    \n",
    "    \n",
    "l = [10, 20, 30, 40, 50]   \n",
    "calculate_values(l)"
   ]
  },
  {
   "cell_type": "markdown",
   "id": "dd7936f7",
   "metadata": {},
   "source": [
    "Write a function that takes input from the users in the list and calculate sum, maximum, minimum, average, cumulative sum"
   ]
  },
  {
   "cell_type": "code",
   "execution_count": 5,
   "id": "c76ae995",
   "metadata": {},
   "outputs": [
    {
     "name": "stdout",
     "output_type": "stream",
     "text": [
      "Enter the number of elements you want in the list: 3\n",
      "Enter the 1 element: 1\n",
      "Enter the 2 element: 2\n",
      "Enter the 3 element: 3\n",
      "[1, 2, 3]\n"
     ]
    }
   ],
   "source": [
    "n = int(input(\"Enter the number of elements you want in the list: \"))\n",
    "list1 = []\n",
    "for i in range(0,n):\n",
    "    user = int(input(f\"Enter the {i+1} element: \"))\n",
    "    list1.append(user)\n",
    "print(list1)"
   ]
  },
  {
   "cell_type": "code",
   "execution_count": 7,
   "id": "9df1dc08",
   "metadata": {},
   "outputs": [
    {
     "name": "stdout",
     "output_type": "stream",
     "text": [
      "Enter the number of elements you want in the list: 3\n",
      "Enter the 1 element: 1\n",
      "Enter the 2 element: 2\n",
      "Enter the 3 element: 3\n",
      "[1, 2, 3]\n",
      "Sum:  6\n",
      "Maximum in the list:  3\n",
      "Minimum in the list:  1\n",
      "Average of the list:  2.0\n",
      "Cummulative Sum:  [1, 3, 6]\n"
     ]
    }
   ],
   "source": [
    "#now writing the function\n",
    "def calculate_values(list):\n",
    "    length = len(list)\n",
    "    sum = 0\n",
    "    for i in range (0,length):\n",
    "        sum = sum+list[i]\n",
    "    print(\"Sum: \", sum)\n",
    "    \n",
    "    max = list[0]\n",
    "    for i in range(1, length):\n",
    "        if(list[i]>max):\n",
    "            max = list[i]\n",
    "            \n",
    "    print(\"Maximum in the list: \", max)\n",
    "    \n",
    "    min = list[0]\n",
    "    for i in range(1, length):\n",
    "        if(list[i]<min):\n",
    "            min = list[i]\n",
    "            \n",
    "    print(\"Minimum in the list: \", min)\n",
    "    \n",
    "    average = sum/length\n",
    "    print(\"Average of the list: \", average)\n",
    "    \n",
    "    total = 0\n",
    "    list2= []\n",
    "    \n",
    "    for i in list:\n",
    "        total = total + i\n",
    "        list2.append(total)\n",
    "        \n",
    "    print(\"Cummulative Sum: \", list2)\n",
    "        \n",
    "#Taking the input from the user only\n",
    "n = int(input(\"Enter the number of elements you want in the list: \"))\n",
    "list1 = []\n",
    "for i in range(0,n):\n",
    "    user = int(input(f\"Enter the {i+1} element: \"))\n",
    "    list1.append(user)\n",
    "print(list1)\n",
    "\n",
    "calculate_values(list1)"
   ]
  },
  {
   "cell_type": "markdown",
   "id": "e8fc7f17",
   "metadata": {},
   "source": [
    "Write a function to takle the input from the users and then call another function to calculate the sum, average, minimum, maximum and its cumulative sum"
   ]
  },
  {
   "cell_type": "code",
   "execution_count": 12,
   "id": "fb9f2903",
   "metadata": {},
   "outputs": [
    {
     "name": "stdout",
     "output_type": "stream",
     "text": [
      "Enter the 1 element: 10\n",
      "Enter the 2 element: 20\n",
      "Enter the 3 element: 30\n",
      "Enter the 4 element: 40\n",
      "Enter the 5 element: 50\n",
      "[10, 20, 30, 40, 50]\n",
      "Sum:  150\n",
      "Maximum in the list:  50\n",
      "Minimum in the list:  10\n",
      "Average of the list:  30.0\n",
      "Cummulative Sum:  [10, 30, 60, 100, 150]\n"
     ]
    }
   ],
   "source": [
    "#function to take input from the user\n",
    "def calculate_values(list):\n",
    "    length = len(list)\n",
    "    sum = 0\n",
    "    for i in range (0,length):\n",
    "        sum = sum+list[i]\n",
    "    print(\"Sum: \", sum)\n",
    "    \n",
    "    max = list[0]\n",
    "    for i in range(1, length):\n",
    "        if(list[i]>max):\n",
    "            max = list[i]\n",
    "            \n",
    "    print(\"Maximum in the list: \", max)\n",
    "    \n",
    "    min = list[0]\n",
    "    for i in range(1, length):\n",
    "        if(list[i]<min):\n",
    "            min = list[i]\n",
    "            \n",
    "    print(\"Minimum in the list: \", min)\n",
    "    \n",
    "    average = sum/length\n",
    "    print(\"Average of the list: \", average)\n",
    "    \n",
    "    total = 0\n",
    "    list2= []\n",
    "    \n",
    "    for i in list:\n",
    "        total = total + i\n",
    "        list2.append(total)\n",
    "        \n",
    "    print(\"Cummulative Sum: \", list2)\n",
    "  \n",
    "    \n",
    "def taking_input_from_users(n):\n",
    "    list1 = []\n",
    "    for i in range(0,n):\n",
    "        user = int(input(f\"Enter the {i+1} element: \"))\n",
    "        list1.append(user)\n",
    "    print(list1)\n",
    "    calculate_values(list1)\n",
    "    \n",
    "taking_input_from_users(5)"
   ]
  },
  {
   "cell_type": "code",
   "execution_count": null,
   "id": "867e77f3",
   "metadata": {},
   "outputs": [],
   "source": []
  }
 ],
 "metadata": {
  "kernelspec": {
   "display_name": "Python 3 (ipykernel)",
   "language": "python",
   "name": "python3"
  },
  "language_info": {
   "codemirror_mode": {
    "name": "ipython",
    "version": 3
   },
   "file_extension": ".py",
   "mimetype": "text/x-python",
   "name": "python",
   "nbconvert_exporter": "python",
   "pygments_lexer": "ipython3",
   "version": "3.9.13"
  }
 },
 "nbformat": 4,
 "nbformat_minor": 5
}
