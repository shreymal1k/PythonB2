{
 "cells": [
  {
   "cell_type": "markdown",
   "id": "140c57cc",
   "metadata": {},
   "source": [
    "# Lecture 4: 28.08.24"
   ]
  },
  {
   "cell_type": "markdown",
   "id": "a81ed2b5",
   "metadata": {},
   "source": [
    "### NAMING CONVENTION IN PYTHON"
   ]
  },
  {
   "cell_type": "markdown",
   "id": "720c8005",
   "metadata": {},
   "source": [
    "### 1.Snake Case"
   ]
  },
  {
   "cell_type": "markdown",
   "id": "accf3ceb",
   "metadata": {},
   "source": [
    "In snake case, each word in a variable is seperated by underscores"
   ]
  },
  {
   "cell_type": "code",
   "execution_count": 5,
   "id": "4e3f6177",
   "metadata": {},
   "outputs": [
    {
     "name": "stdout",
     "output_type": "stream",
     "text": [
      "20.0\n"
     ]
    }
   ],
   "source": [
    "user_name=\"Kumkum\"\n",
    "my_marks=90\n",
    "\n",
    "#creating function with snake case#creati\n",
    "def calculate_avg(list):\n",
    "    total = sum(list)\n",
    "    return total/len(list)\n",
    "    \n",
    "average =calculate_avg([10,20,30])\n",
    "print(average)"
   ]
  },
  {
   "cell_type": "markdown",
   "id": "0c278b32",
   "metadata": {},
   "source": [
    "### 2. Camel Case"
   ]
  },
  {
   "cell_type": "markdown",
   "id": "ffd6319d",
   "metadata": {},
   "source": [
    "In camel case,Each word except the first, starts with a capital letter."
   ]
  },
  {
   "cell_type": "code",
   "execution_count": 6,
   "id": "74196b3e",
   "metadata": {},
   "outputs": [],
   "source": [
    "#creating variables with camel case\n",
    "userName =\"Kumkum\"\n",
    "myMarks = 90"
   ]
  },
  {
   "cell_type": "markdown",
   "id": "d23e9d5d",
   "metadata": {},
   "source": [
    "### 3.Pascal Case"
   ]
  },
  {
   "cell_type": "markdown",
   "id": "c9cdf755",
   "metadata": {},
   "source": [
    "In Pascal case, each word starts with the capital letter"
   ]
  },
  {
   "cell_type": "code",
   "execution_count": 15,
   "id": "8d33f783",
   "metadata": {},
   "outputs": [],
   "source": [
    "#creating variable with pascal case\n",
    "\n",
    "MyName = \"Kumkum\"\n"
   ]
  },
  {
   "cell_type": "markdown",
   "id": "5106e6c3",
   "metadata": {},
   "source": [
    "### 4.Uppercase with underscores"
   ]
  },
  {
   "cell_type": "markdown",
   "id": "291505cc",
   "metadata": {},
   "source": [
    "In uppercase with underscores, each word is of uppercase seperated by undescores"
   ]
  },
  {
   "cell_type": "code",
   "execution_count": 19,
   "id": "8e090032",
   "metadata": {},
   "outputs": [
    {
     "name": "stdout",
     "output_type": "stream",
     "text": [
      "75.36\n"
     ]
    }
   ],
   "source": [
    "MY_NAME = \"Kumkum Malhotra\"\n",
    "\n",
    "#constant names \n",
    "\n",
    "PI = 3.14\n",
    "def volumeOfCylinder(radius, height):\n",
    "    volume = PI*radius*radius*height\n",
    "    return volume\n",
    "\n",
    "print(volumeOfCylinder(2, 6))"
   ]
  },
  {
   "cell_type": "code",
   "execution_count": 20,
   "id": "02b6b6e0",
   "metadata": {},
   "outputs": [
    {
     "name": "stdout",
     "output_type": "stream",
     "text": [
      "Original matrix:  [[11 22 33]\n",
      " [44 55 66]\n",
      " [77 88 99]]\n",
      "Modified matrix:  [[110 220 330]\n",
      " [440 550 660]\n",
      " [770 880 990]]\n"
     ]
    }
   ],
   "source": [
    "#a user has 3X3 and then in the copied matrix multilpy each value by a constant and store the value in place\n",
    "#after this print both the matrix\n",
    "import numpy as np\n",
    "\n",
    "original_matrix = np.array([\n",
    "    [11,22,33],\n",
    "    [44,55,66],\n",
    "    [77,88,99]\n",
    "])\n",
    "\n",
    "constant =10\n",
    "modified_matrix = original_matrix*constant\n",
    "\n",
    "print(\"Original matrix: \",original_matrix)\n",
    "print(\"Modified matrix: \",modified_matrix)"
   ]
  },
  {
   "cell_type": "code",
   "execution_count": null,
   "id": "900b172e",
   "metadata": {},
   "outputs": [],
   "source": []
  }
 ],
 "metadata": {
  "kernelspec": {
   "display_name": "Python 3 (ipykernel)",
   "language": "python",
   "name": "python3"
  },
  "language_info": {
   "codemirror_mode": {
    "name": "ipython",
    "version": 3
   },
   "file_extension": ".py",
   "mimetype": "text/x-python",
   "name": "python",
   "nbconvert_exporter": "python",
   "pygments_lexer": "ipython3",
   "version": "3.9.13"
  }
 },
 "nbformat": 4,
 "nbformat_minor": 5
}
