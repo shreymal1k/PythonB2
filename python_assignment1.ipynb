{
 "cells": [
  {
   "cell_type": "markdown",
   "id": "7a64e3cc",
   "metadata": {},
   "source": [
    "# PART 1"
   ]
  },
  {
   "cell_type": "code",
   "execution_count": 1,
   "id": "bc5562c3",
   "metadata": {},
   "outputs": [
    {
     "name": "stdout",
     "output_type": "stream",
     "text": [
      "Name:  Shrey Malik\n",
      "Course:  MCA\n",
      "Python version:  3.12.4 | packaged by Anaconda, Inc. | (main, Jun 18 2024, 15:03:56) [MSC v.1929 64 bit (AMD64)]\n"
     ]
    }
   ],
   "source": [
    "import sys \n",
    "Name = \"Shrey Malik\" #creating a variable, Name \n",
    "Course = \"MCA\" #creating a  variable, Course \n",
    "python_version = sys.version #for finding the version of python you are using\n",
    "\n",
    "#printing the details as asked in the question\n",
    "print(\"Name: \", Name)\n",
    "print(\"Course: \", Course)\n",
    "print(\"Python version: \", python_version)"
   ]
  },
  {
   "cell_type": "markdown",
   "id": "d7422947",
   "metadata": {},
   "source": [
    "# Part2"
   ]
  },
  {
   "cell_type": "code",
   "execution_count": 2,
   "id": "dfc57e99",
   "metadata": {},
   "outputs": [],
   "source": [
    "firstName = input(\"Enter your first name: \") #Creating a variable, firstName that stores the user's first name\n",
    "lastName = input(\"Enter your last name: \") #creating a variable, lastName that stores user's last name\n",
    "\n",
    "full_name = firstName + \" \" +lastName #cocatenating the two string\n",
    "print(\"Full Name : \",full_name)\n",
    "\n",
    "print(\"First and last name in reverse order: \")\n",
    "reverse_order= lastName + \" \"+ firstName \n",
    "print(reverse_order)"
   ]
  },
  {
   "cell_type": "code",
   "execution_count": 1,
   "id": "971f7900",
   "metadata": {},
   "outputs": [
    {
     "name": "stdout",
     "output_type": "stream",
     "text": [
      "String Methods \n",
      "UPPERCASE FUNCTION\n",
      "SHREY\n",
      "COUNT FUNCTION\n",
      "2\n"
     ]
    }
   ],
   "source": [
    "print(\"String Methods \")\n",
    "\n",
    "print(\"UPPERCASE FUNCTION\")\n",
    "str1=\"Shrey\"\n",
    "print(str1.upper()) #This method is used to change the case of the string to UPPERCASE\n",
    "\n",
    "print(\"COUNT FUNCTION\")\n",
    "str2=\"Kunal, Shrey, Happy, Harshit, Sanya, Shiksha, Shrey, Vishal\"\n",
    "print(str2.count(\"Shrey\"))#This method is used to coiunt the occurence of a particular word in a string"
   ]
  },
  {
   "cell_type": "markdown",
   "id": "6cb15738",
   "metadata": {},
   "source": [
    "# Numeric data types and conversion function\n"
   ]
  },
  {
   "cell_type": "code",
   "execution_count": 4,
   "id": "d8639a89",
   "metadata": {},
   "outputs": [
    {
     "name": "stdout",
     "output_type": "stream",
     "text": [
      "Enter the number of your own choice: 12\n",
      "Data type of numstring after Type Casting: <class 'int'>\n",
      "Data type of num_string after Type Casting: <class 'float'>\n",
      "Data type of num_string after Type Casting: <class 'complex'>\n"
     ]
    }
   ],
   "source": [
    "#The number entered by the user is stored as a string data type\n",
    "numstring = input(\"Enter the number of your own choice: \")\n",
    "\n",
    "numstring1 = int(numstring)  #converting from string data type to int data type \n",
    "numstring2=float(numstring)  #converting from string data type to float data type \n",
    "numstring3=complex(numstring)  #converting from string data type to complex data type \n",
    "\n",
    "print(\"Data type of numstring after Type Casting:\",type(numstring1))\n",
    "\n",
    "print(\"Data type of num_string after Type Casting:\",type(numstring2))\n",
    "\n",
    "print(\"Data type of num_string after Type Casting:\",type(numstring3))"
   ]
  },
  {
   "cell_type": "code",
   "execution_count": 5,
   "id": "ebd72085",
   "metadata": {},
   "outputs": [],
   "source": [
    "#Explanation of the data types used in the above code\n",
    "#Integers – This value is represented by int class. It contains positive or negative whole numbers \n",
    "#Eg: 6, -7, 90, -7665\n",
    "\n",
    "#Float – This value is represented by the float class. It is specified by a decimal point.\n",
    "#Eg: 6.90, 8.98, 78.09\n",
    "\n",
    "#Complex Numbers – A complex number is represented by a complex class. It is specified as (real part) + (imaginary part)j \n",
    "#Eg: 6 + 4j, 9 + 2j"
   ]
  },
  {
   "cell_type": "markdown",
   "id": "51b496d2",
   "metadata": {},
   "source": [
    "# Simple input and output"
   ]
  },
  {
   "cell_type": "code",
   "execution_count": 6,
   "id": "ea05720b",
   "metadata": {},
   "outputs": [
    {
     "name": "stdout",
     "output_type": "stream",
     "text": [
      "Enter the length of the rectangle : 4\n",
      "Enter the breadth of the rectangle : 5\n",
      "Area of the rectangle with length  4  and the breadth  5  Is  20\n"
     ]
    }
   ],
   "source": [
    "#taking the input from the user in the length variable\n",
    "length = int(input(\"Enter the length of the rectangle : \"))#changing the data type of the variable length from string to int\n",
    "\n",
    "#taking the input from the user in the breadth variable\n",
    "breadth = int(input(\"Enter the breadth of the rectangle : \"))#changing the data type of the variable length from string to int\n",
    "\n",
    "area = length * breadth #calculating the area of the rectangle and storing in the variable name, area\n",
    "\n",
    "#printing the area of the rectangle\n",
    "print(\"Area of the rectangle with length \", length ,\" and the breadth \", breadth, \" Is \", area )"
   ]
  },
  {
   "cell_type": "markdown",
   "id": "3e4d2506",
   "metadata": {},
   "source": [
    "# Using the format method"
   ]
  },
  {
   "cell_type": "code",
   "execution_count": 7,
   "id": "1f14f861",
   "metadata": {},
   "outputs": [
    {
     "name": "stdout",
     "output_type": "stream",
     "text": [
      "The area of the rectangle with two decimal places is: 20.00\n"
     ]
    }
   ],
   "source": [
    "# Display the result using the print function with two decimal places\n",
    "#using format method\n",
    "\n",
    "print(\"The area of the rectangle with two decimal places is: {:.2f}\".format(area))"
   ]
  },
  {
   "cell_type": "markdown",
   "id": "c90d72ea",
   "metadata": {},
   "source": [
    "# the % method and print function"
   ]
  },
  {
   "cell_type": "code",
   "execution_count": 8,
   "id": "7cee9a6a",
   "metadata": {},
   "outputs": [
    {
     "name": "stdout",
     "output_type": "stream",
     "text": [
      "Enter the first number: 2\n",
      "Enter the second number: 3\n",
      "Enter the third number: 4\n",
      "The average of the three numbers is: 3.00\n"
     ]
    }
   ],
   "source": [
    "# Taking the input from the users in the variables and changing its data type to float from string\n",
    "#creating three variable as num1, num2 and num3 \n",
    "num1 = float(input(\"Enter the first number: \"))\n",
    "num2 = float(input(\"Enter the second number: \"))\n",
    "num3 = float(input(\"Enter the third number: \"))\n",
    "\n",
    "#calculating the sum\n",
    "sum = num1+ num2 + num3\n",
    "# Calculating the average\n",
    "average = sum / 3\n",
    "\n",
    "# Displaying the result using the % formatting method and using print function\n",
    "print(\"The average of the three numbers is: %.2f\" % average)"
   ]
  },
  {
   "cell_type": "markdown",
   "id": "7428c135",
   "metadata": {},
   "source": [
    "# control flow statement"
   ]
  },
  {
   "cell_type": "code",
   "execution_count": 11,
   "id": "196d5931",
   "metadata": {},
   "outputs": [
    {
     "name": "stdout",
     "output_type": "stream",
     "text": [
      "Enter a number (or type 'exit' to quit): 8\n",
      "The number is positive.\n",
      "Enter a number (or type 'exit' to quit): 8\n",
      "The number is positive.\n",
      "Enter a number (or type 'exit' to quit): 88\n",
      "The number is positive.\n",
      "Enter a number (or type 'exit' to quit): 990\n",
      "The number is positive.\n",
      "Enter a number (or type 'exit' to quit): exxit\n",
      "Invalid input. Please enter a valid number.\n",
      "Enter a number (or type 'exit' to quit): exit\n",
      "Exiting the program.\n"
     ]
    }
   ],
   "source": [
    "while True:\n",
    "    userInput = input(\"Enter a number (or type 'exit' to quit): \")\n",
    "\n",
    "    # Check if the user wants to exit\n",
    "    if userInput.lower() == 'exit': #checking whether the user enters exit\n",
    "        print(\"Exiting the program.\")\n",
    "        break #use to exit from the program\n",
    "\n",
    "    # Try to convert the input to a number\n",
    "    try:\n",
    "        num = float(userInput) #creating a variable which stores the value if the user enters the number\n",
    "        \n",
    "        # Determine if the number is positive, negative, or zero\n",
    "        if num > 0:\n",
    "            print(\"The number is positive.\")\n",
    "            \n",
    "        elif num < 0:\n",
    "            print(\"The number is negative.\")\n",
    "            \n",
    "        else:\n",
    "            print(\"The number is zero.\")\n",
    "    \n",
    "    # Handle the case where the input is not a valid number\n",
    "    except ValueError:\n",
    "        print(\"Invalid input. Please enter a valid number.\")\n"
   ]
  },
  {
   "cell_type": "markdown",
   "id": "c6f5dc44",
   "metadata": {},
   "source": [
    "# RELATIONAL LOGICAL OPERATOR"
   ]
  },
  {
   "cell_type": "code",
   "execution_count": 16,
   "id": "e9d23a0d",
   "metadata": {},
   "outputs": [
    {
     "name": "stdout",
     "output_type": "stream",
     "text": [
      "Enter the first number: 4\n",
      "Enter the second number: 5\n",
      "One number is odd and other is even\n"
     ]
    }
   ],
   "source": [
    "#taking inputs from the user and storing it in numeric data type\n",
    "num1 = int(input(\"Enter the first number: \")) #Taking the input from the user and storing it in variable num1\n",
    "num2 = int(input(\"Enter the second number: \")) #taking the input from the user and storing it in variable num2\n",
    "\n",
    "#checking whether both the numbers are even\n",
    "if(num1 % 2 == 0 and num2 % 2 == 0): #the if block will be executed only if both the condition are true\n",
    "    print(\"Both the numbers entered by the user are even\")\n",
    "\n",
    "#checking whether both the numbers are odd    \n",
    "elif(num1 % 2 != 0 and num2 % 2 != 0): #the if block will be executed only if both the condition are true\n",
    "    print(\"Both the numbers enterd by the user are odd\")\n",
    "    \n",
    "else:\n",
    "    print(\"One number is odd and other is even\")"
   ]
  },
  {
   "cell_type": "code",
   "execution_count": 17,
   "id": "c85b4f1b",
   "metadata": {},
   "outputs": [
    {
     "name": "stdout",
     "output_type": "stream",
     "text": [
      "Enter an integer: 24\n",
      "Binary: 11000\n",
      "Octal: 14\n",
      "Hexadecimal: 18\n"
     ]
    }
   ],
   "source": [
    "# Function to convert a number to binary, octal, and hexadecimal using bitwise operations\n",
    "def convert_number(num):\n",
    "    # Binary conversion\n",
    "    binary = ''\n",
    "    for i in range(num.bit_length(), -1, -1):\n",
    "        binary += '1' if (num >> i) & 1 else '0'\n",
    "    binary = binary.lstrip('0') or '0'  # Remove leading zeros\n",
    "\n",
    "    # Octal conversion\n",
    "    octal = ''\n",
    "    for i in range(num.bit_length() - 1, -1, -3):  # Group by 3 bits for octal\n",
    "        octal_digit = (num >> i) & 7  # Extract 3 bits at a time\n",
    "        octal += str(octal_digit)\n",
    "    octal = octal.lstrip('0') or '0'  # Remove leading zeros\n",
    "\n",
    "    # Hexadecimal conversion\n",
    "    hex_digits = \"0123456789ABCDEF\"\n",
    "    hexadecimal = ''\n",
    "    for i in range(num.bit_length() - 1, -1, -4):  # Group by 4 bits for hexadecimal\n",
    "        hex_digit = (num >> i) & 15  # Extract 4 bits at a time\n",
    "        hexadecimal += hex_digits[hex_digit]\n",
    "    hexadecimal = hexadecimal.lstrip('0') or '0'  # Remove leading zeros\n",
    "\n",
    "    print(f\"Binary: {binary}\")\n",
    "    print(f\"Octal: {octal}\")\n",
    "    print(f\"Hexadecimal: {hexadecimal}\")\n",
    "\n",
    "# Take integer input from the user\n",
    "number = int(input(\"Enter an integer: \"))\n",
    "convert_number(number)"
   ]
  },
  {
   "cell_type": "code",
   "execution_count": null,
   "id": "5d6a5b02",
   "metadata": {},
   "outputs": [],
   "source": []
  }
 ],
 "metadata": {
  "kernelspec": {
   "display_name": "Python 3 (ipykernel)",
   "language": "python",
   "name": "python3"
  },
  "language_info": {
   "codemirror_mode": {
    "name": "ipython",
    "version": 3
   },
   "file_extension": ".py",
   "mimetype": "text/x-python",
   "name": "python",
   "nbconvert_exporter": "python",
   "pygments_lexer": "ipython3",
   "version": "3.12.4"
  }
 },
 "nbformat": 4,
 "nbformat_minor": 5
}
