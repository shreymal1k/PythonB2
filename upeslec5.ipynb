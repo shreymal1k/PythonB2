{
 "cells": [
  {
   "cell_type": "markdown",
   "id": "cb58644f",
   "metadata": {},
   "source": [
    "# Lecture 5 30/08/2024"
   ]
  },
  {
   "cell_type": "markdown",
   "id": "c5084e7d",
   "metadata": {},
   "source": [
    "COPY using an ASSIGNMENT operator \n",
    "\n",
    "This doesnt create any new object but just a new variable that shares the reference of an original object\n",
    "Thus the changes made in the original variable would also be reflected in a new variable"
   ]
  },
  {
   "cell_type": "code",
   "execution_count": 6,
   "id": "a7f0ceb7",
   "metadata": {},
   "outputs": [
    {
     "name": "stdout",
     "output_type": "stream",
     "text": [
      "[10, 20, 30, 40, 50]\n",
      "The list after modification :  [10, 20, 30, 100, 50]\n",
      "The list after modification made in an original list:  [10, 20, 30, 100, 50]\n",
      "Id of an original list:  1669647141696\n",
      "Id of an new list:  1669647141696\n"
     ]
    }
   ],
   "source": [
    "listA=[10,20,30,40,50]\n",
    "listB=listA\n",
    "\n",
    "print(listB)\n",
    "listA[3] = 100\n",
    "print(\"The list after modification : \",listA)\n",
    "print(\"The list after modification made in an original list: \",listB)\n",
    "print(\"Id of an original list: \",id(listA))\n",
    "print(\"Id of an new list: \",id(listB))"
   ]
  },
  {
   "cell_type": "markdown",
   "id": "a63ba9a1",
   "metadata": {},
   "source": [
    "# DEEP CONCEPT AND SHALLOW CONCEPT"
   ]
  },
  {
   "cell_type": "markdown",
   "id": "09beab5a",
   "metadata": {},
   "source": [
    "We use COPY module for deep and shallow operations"
   ]
  },
  {
   "cell_type": "markdown",
   "id": "4f7a2d9e",
   "metadata": {},
   "source": [
    "SHALLOW COPY"
   ]
  },
  {
   "cell_type": "code",
   "execution_count": 14,
   "id": "e4b9f8b1",
   "metadata": {},
   "outputs": [
    {
     "name": "stdout",
     "output_type": "stream",
     "text": [
      "Old List [[1, 2, 3], [4, 5, 6], [7, 8, 9]]\n",
      "New List [[1, 2, 3], [4, 5, 6], [7, 8, 9]]\n"
     ]
    }
   ],
   "source": [
    "import copy\n",
    "\n",
    "old_list=[[1,2,3], [4,5,6], [7,8,9]]\n",
    "new_list=copy.copy(old_list) #using shallow copy for creating new list\n",
    "\n",
    "print(\"Old List\",old_list)\n",
    "print(\"New List\", new_list)"
   ]
  },
  {
   "cell_type": "code",
   "execution_count": 17,
   "id": "1dc0549e",
   "metadata": {},
   "outputs": [
    {
     "name": "stdout",
     "output_type": "stream",
     "text": [
      "[[1, 2, 3], [4, 5, 6], [7, 8, 9], [10, 11, 12]]\n",
      "[[1, 2, 3], [4, 5, 6], [7, 8, 9]]\n"
     ]
    }
   ],
   "source": [
    "old_list=[[1,2,3], [4,5,6], [7,8,9]]\n",
    "old_list.append([10,11,12])#the new sublist will not be copied in the new list\n",
    "print(old_list)\n",
    "print(new_list)"
   ]
  },
  {
   "cell_type": "code",
   "execution_count": 19,
   "id": "5541ee47",
   "metadata": {},
   "outputs": [
    {
     "name": "stdout",
     "output_type": "stream",
     "text": [
      "[[1, 2, 3], [4, 'aa', 6], [7, 8, 9]]\n",
      "[[1, 2, 3], [4, 'aa', 6], [7, 8, 9]]\n"
     ]
    }
   ],
   "source": [
    "old_list=[[1,2,3], [4,5,6], [7,8,9]]\n",
    "new_list=copy.copy(old_list)\n",
    "old_list[1][1]=\"aa\"\n",
    "#the changes made already in the existing nested list will be reflected in the original list\n",
    "print(old_list)\n",
    "print(new_list)"
   ]
  },
  {
   "cell_type": "markdown",
   "id": "768a8f8d",
   "metadata": {},
   "source": [
    "Both sublists of old_list and new_list at index [1][1] were modified. This is because, both lists share the reference of same nested objects."
   ]
  },
  {
   "cell_type": "markdown",
   "id": "7c840e1c",
   "metadata": {},
   "source": [
    "DEEP COPY"
   ]
  },
  {
   "cell_type": "markdown",
   "id": "feb3687c",
   "metadata": {},
   "source": [
    "A deep copy creates a new object and recursively copies the elements from the old list to the new list\n",
    "Deep copy creates an independent copy of the original list so  if any changes are made in the original list then it wont be reflected in the new list"
   ]
  },
  {
   "cell_type": "code",
   "execution_count": 23,
   "id": "73478d05",
   "metadata": {},
   "outputs": [
    {
     "name": "stdout",
     "output_type": "stream",
     "text": [
      "Old List [[1, 2, 3], [4, 5, 6], [7, 8, 9]]\n",
      "New List [[1, 2, 3], [4, 5, 6], [7, 8, 9]]\n",
      "The old list after modification:  [[1, 2, 3], [4, 5, 6], [7, 8, 9], [10, 11, 12]]\n",
      "The new list after modifying the old list:  [[1, 2, 3], [4, 5, 6], [7, 8, 9]]\n",
      "The old list after modification:  [[1, 2, 3], [4, 'AA', 6], [7, 8, 9], [10, 11, 12]]\n",
      "The new list after modifying the old list:  [[1, 2, 3], [4, 5, 6], [7, 8, 9]]\n"
     ]
    }
   ],
   "source": [
    "import copy\n",
    "\n",
    "old_list=[[1,2,3], [4,5,6], [7,8,9]]\n",
    "new_list=copy.deepcopy(old_list) #using shallow copy for creating new list\n",
    "\n",
    "print(\"Old List\",old_list)\n",
    "print(\"New List\", new_list)\n",
    "\n",
    "old_list.append([10,11,12]) #adding new element in the original list\n",
    "print(\"The old list after modification: \",old_list)\n",
    "print(\"The new list after modifying the old list: \",new_list)\n",
    "\n",
    "old_list[1][1] = \"AA\"\n",
    "print(\"The old list after modification: \",old_list)\n",
    "print(\"The new list after modifying the old list: \",new_list)"
   ]
  },
  {
   "cell_type": "markdown",
   "id": "eda5248f",
   "metadata": {},
   "source": [
    "# FUNCTION IN PYTHON"
   ]
  },
  {
   "cell_type": "markdown",
   "id": "3186187d",
   "metadata": {},
   "source": [
    "WRITE A FUNCTION TO GREET A PERSON BY THEIR NAME"
   ]
  },
  {
   "cell_type": "code",
   "execution_count": 25,
   "id": "ba812e59",
   "metadata": {},
   "outputs": [
    {
     "name": "stdout",
     "output_type": "stream",
     "text": [
      "Hello, Kumkum!!\n"
     ]
    }
   ],
   "source": [
    "def greet(name):\n",
    "    print(f\"Hello, {name}!!\")\n",
    "    \n",
    "greet(\"Kumkum\")"
   ]
  },
  {
   "cell_type": "markdown",
   "id": "699cec87",
   "metadata": {},
   "source": [
    "WRITE A FUNCTION THAT TAKES THREE NUMBERS AS THEIR INPUT AND RETURNS THE SUM"
   ]
  },
  {
   "cell_type": "code",
   "execution_count": 26,
   "id": "65970f52",
   "metadata": {},
   "outputs": [
    {
     "name": "stdout",
     "output_type": "stream",
     "text": [
      "50\n"
     ]
    }
   ],
   "source": [
    "def addition(a,b,c):\n",
    "    sum = a+b+c\n",
    "    return sum\n",
    "\n",
    "result = addition(10,20,20)\n",
    "print(result)"
   ]
  },
  {
   "cell_type": "markdown",
   "id": "23c1a9ad",
   "metadata": {},
   "source": [
    "###KEYWORDS AND OPTIONAL PARAMETERS"
   ]
  },
  {
   "cell_type": "code",
   "execution_count": 31,
   "id": "c23714a1",
   "metadata": {},
   "outputs": [
    {
     "name": "stdout",
     "output_type": "stream",
     "text": [
      "My name is Poorti and i am 19 years old.\n",
      "My name is Sanya and i am 20 years old.\n"
     ]
    }
   ],
   "source": [
    "def introduce(name , age=19):\n",
    "    #if we have not specified the age variable while calling the function then default value will be taken\n",
    "    return f\"My name is {name} and i am {age} years old.\"\n",
    "\n",
    "print(introduce(\"Poorti\")) #calling with keyword arguement\n",
    "print(introduce(name = \"Sanya\",age = 20))\n"
   ]
  },
  {
   "cell_type": "markdown",
   "id": "b250fdd0",
   "metadata": {},
   "source": [
    "PASSING A COLLECTION TO A FUNCTION\n",
    "\n",
    "You can pass the list, tuple, dictionary"
   ]
  },
  {
   "cell_type": "code",
   "execution_count": 32,
   "id": "ea828111",
   "metadata": {},
   "outputs": [
    {
     "name": "stdout",
     "output_type": "stream",
     "text": [
      "sum of all numbers present in the list is:  150\n",
      "sum of all numbers present in the tuple is:  150\n"
     ]
    }
   ],
   "source": [
    "def sum_numbers(numbers):\n",
    "    return sum(numbers)\n",
    "\n",
    "result = sum_numbers([10,20,30,40,50]) #passing list to the function\n",
    "print(\"sum of all numbers present in the list is: \", result)\n",
    "\n",
    "result = sum_numbers((10,20,30,40,50)) #passing tuple to the function\n",
    "print(\"sum of all numbers present in the tuple is: \", result)"
   ]
  },
  {
   "cell_type": "markdown",
   "id": "8baedab1",
   "metadata": {},
   "source": [
    "Variable nimber of arguements"
   ]
  },
  {
   "cell_type": "markdown",
   "id": "af8142b7",
   "metadata": {},
   "source": [
    "### args"
   ]
  },
  {
   "cell_type": "markdown",
   "id": "1775986a",
   "metadata": {},
   "source": [
    "Allows a function to accept any number of positional arguements which are packed in tuple"
   ]
  },
  {
   "cell_type": "code",
   "execution_count": 35,
   "id": "d409498e",
   "metadata": {},
   "outputs": [
    {
     "name": "stdout",
     "output_type": "stream",
     "text": [
      "Helloo, Kumkum\n",
      "Helloo, Sanya\n",
      "Helloo, Satyam\n",
      "Helloo, Kunal\n"
     ]
    }
   ],
   "source": [
    "def greet(*names):\n",
    "    for name in names:\n",
    "        print(f\"Helloo, {name}\")\n",
    "        \n",
    "greet(\"Kumkum\", \"Sanya\", \"Satyam\", \"Kunal\") #use when you dont know how many positional arguements are there"
   ]
  },
  {
   "cell_type": "markdown",
   "id": "ef23c6be",
   "metadata": {},
   "source": [
    "### kwargs"
   ]
  },
  {
   "cell_type": "markdown",
   "id": "53ec0b62",
   "metadata": {},
   "source": [
    "Allows a function to accept any number of keyword arguements which are packed in dictionary"
   ]
  },
  {
   "cell_type": "code",
   "execution_count": 39,
   "id": "7fd415e1",
   "metadata": {},
   "outputs": [
    {
     "name": "stdout",
     "output_type": "stream",
     "text": [
      "name : Kumkum\n",
      "age : 21\n",
      "specialisation : AI/ML\n",
      "course : MCA\n"
     ]
    }
   ],
   "source": [
    "def introducing(**info):\n",
    "    for key, value in info.items():\n",
    "        print(f\"{key} : {value}\")\n",
    "        \n",
    "introducing(name = \"Kumkum\", age = 21, specialisation = \"AI/ML\", course = \"MCA\")"
   ]
  },
  {
   "cell_type": "code",
   "execution_count": null,
   "id": "1fea5100",
   "metadata": {},
   "outputs": [],
   "source": []
  }
 ],
 "metadata": {
  "kernelspec": {
   "display_name": "Python 3 (ipykernel)",
   "language": "python",
   "name": "python3"
  },
  "language_info": {
   "codemirror_mode": {
    "name": "ipython",
    "version": 3
   },
   "file_extension": ".py",
   "mimetype": "text/x-python",
   "name": "python",
   "nbconvert_exporter": "python",
   "pygments_lexer": "ipython3",
   "version": "3.9.13"
  }
 },
 "nbformat": 4,
 "nbformat_minor": 5
}
