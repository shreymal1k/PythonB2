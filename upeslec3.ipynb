{
 "cells": [
  {
   "cell_type": "markdown",
   "id": "713dd249",
   "metadata": {},
   "source": [
    "# IF STATEMENT"
   ]
  },
  {
   "cell_type": "code",
   "execution_count": 1,
   "id": "eda23512",
   "metadata": {},
   "outputs": [
    {
     "name": "stdout",
     "output_type": "stream",
     "text": [
      "5  is smaller than 10\n"
     ]
    }
   ],
   "source": [
    "x = 5\n",
    "if x<10:\n",
    "    print(x,\" is smaller than 10\")"
   ]
  },
  {
   "cell_type": "markdown",
   "id": "cc621ee0",
   "metadata": {},
   "source": [
    "# LOGICAL OPERATOR"
   ]
  },
  {
   "cell_type": "code",
   "execution_count": 2,
   "id": "874a2654",
   "metadata": {},
   "outputs": [
    {
     "name": "stdout",
     "output_type": "stream",
     "text": [
      "10 lies between 2 and 12\n"
     ]
    }
   ],
   "source": [
    "x = 10\n",
    "\n",
    "if(x>2 and x<12): #occurs if both the condition are true\n",
    "    print(x, \"lies between 2 and 12\")"
   ]
  },
  {
   "cell_type": "code",
   "execution_count": 3,
   "id": "743932f9",
   "metadata": {},
   "outputs": [
    {
     "name": "stdout",
     "output_type": "stream",
     "text": [
      "The if block is executed..\n"
     ]
    }
   ],
   "source": [
    " x = 10\n",
    "\n",
    "if(x>2 or x<5): #executed even if one condition is true\n",
    "    print(\"The if block is executed..\") \n",
    "    "
   ]
  },
  {
   "cell_type": "code",
   "execution_count": 4,
   "id": "138603ea",
   "metadata": {},
   "outputs": [
    {
     "name": "stdout",
     "output_type": "stream",
     "text": [
      "10 is not divisible by 3 \n"
     ]
    }
   ],
   "source": [
    "x = 10\n",
    "\n",
    "if(not x%3==0 ):\n",
    "    print(x, \"is not divisible by 3 \")"
   ]
  },
  {
   "cell_type": "markdown",
   "id": "f6069ca0",
   "metadata": {},
   "source": [
    "# WHILE LOOP"
   ]
  },
  {
   "cell_type": "code",
   "execution_count": 5,
   "id": "7a6032fd",
   "metadata": {},
   "outputs": [
    {
     "name": "stdout",
     "output_type": "stream",
     "text": [
      "0\n",
      "1\n",
      "2\n",
      "3\n",
      "4\n",
      "5\n"
     ]
    }
   ],
   "source": [
    "count = 0\n",
    "while count<=5:\n",
    "    print(count)\n",
    "    count = count+1"
   ]
  },
  {
   "cell_type": "markdown",
   "id": "53b216db",
   "metadata": {},
   "source": [
    "# BREAK AND CONTINUE STATEMENT"
   ]
  },
  {
   "cell_type": "code",
   "execution_count": 6,
   "id": "e42e4595",
   "metadata": {},
   "outputs": [
    {
     "name": "stdout",
     "output_type": "stream",
     "text": [
      "0\n",
      "1\n",
      "2\n",
      "3\n",
      "4\n"
     ]
    }
   ],
   "source": [
    "#break statement is used to exit the current loop immediately\n",
    "\n",
    "count = 0\n",
    "while count<=10:\n",
    "    \n",
    "    if count == 5:\n",
    "        break\n",
    "        \n",
    "    print(count)\n",
    "    count = count+1"
   ]
  },
  {
   "cell_type": "code",
   "execution_count": null,
   "id": "8ff4e6ed",
   "metadata": {},
   "outputs": [],
   "source": [
    "#continue statement is used to exit from the current iteration and directly skipping to next iteration\n",
    "\n",
    "count = 0\n",
    "while count<=10:\n",
    "    if count%2 == 0:\n",
    "        continue\n",
    "    print(count)\n",
    "    count = count+1"
   ]
  },
  {
   "cell_type": "code",
   "execution_count": 7,
   "id": "84e217eb",
   "metadata": {},
   "outputs": [
    {
     "name": "stdout",
     "output_type": "stream",
     "text": [
      "0\n",
      "1\n",
      "2\n",
      "3\n",
      "4\n",
      "5\n",
      "6\n",
      "7\n",
      "8\n",
      "9\n"
     ]
    }
   ],
   "source": [
    "for i in range(10):\n",
    "    print(i)"
   ]
  },
  {
   "cell_type": "code",
   "execution_count": 8,
   "id": "7380ef24",
   "metadata": {},
   "outputs": [
    {
     "name": "stdout",
     "output_type": "stream",
     "text": [
      "Enter the number of your own choice6\n",
      "6 X 1 = 6\n",
      "6 X 2 = 12\n",
      "6 X 3 = 18\n",
      "6 X 4 = 24\n",
      "6 X 5 = 30\n",
      "6 X 6 = 36\n",
      "6 X 7 = 42\n",
      "6 X 8 = 48\n",
      "6 X 9 = 54\n",
      "6 X 10 = 60\n"
     ]
    }
   ],
   "source": [
    "# Write  program that take user input in numeric form and print its table\n",
    "number=int(input(\"Enter the number of your own choice\"))\n",
    "for i in range(1, 11):\n",
    "    print(number, \"X\",i, \"=\" ,number*i)"
   ]
  },
  {
   "cell_type": "code",
   "execution_count": 9,
   "id": "39a89151",
   "metadata": {},
   "outputs": [
    {
     "name": "stdout",
     "output_type": "stream",
     "text": [
      "Sum is :  28\n",
      "Average is:  4.5\n",
      "Maximum value is:  7\n",
      "Minimum is:  2\n"
     ]
    }
   ],
   "source": [
    "#write a function that gives sum avg min mand max of all the input given in the arguements\n",
    "\n",
    "def funct(num1, num2, num3, num4, num5, num6):\n",
    "    print(\"Sum is : \", num1+num2+num4+num4+ num5+ num6)\n",
    "    print(\"Average is: \", (num1+num2+num3+num4+num5+num6)/6)\n",
    "    print(\"Maximum value is: \", max(num1, num2, num3, num4, num5, num6))\n",
    "    print(\"Minimum is: \", min(num1, num2, num3, num4, num5, num6))\n",
    "    \n",
    "funct(2,3,4,5,6,7)"
   ]
  },
  {
   "cell_type": "markdown",
   "id": "5928549c",
   "metadata": {},
   "source": [
    "# why the id changes ? or remain same from a and b?"
   ]
  },
  {
   "cell_type": "markdown",
   "id": "b5c087b8",
   "metadata": {},
   "source": [
    "All the variable are repsresenting by the same id when allocating to them.Then what is the purpose ? Python fix the variable allocating to the map. and the variable is immutable , so modification cannot be done when it map in the memory, therfore in a and b the value remain stagnant. wherease as in C the value changed."
   ]
  },
  {
   "cell_type": "code",
   "execution_count": 11,
   "id": "13a86da3",
   "metadata": {},
   "outputs": [
    {
     "name": "stdout",
     "output_type": "stream",
     "text": [
      "2883275221296\n",
      "2883275221296\n"
     ]
    }
   ],
   "source": [
    "a=1\n",
    "b=1\n",
    "print(id(a))\n",
    "print(id(b))"
   ]
  },
  {
   "cell_type": "code",
   "execution_count": 12,
   "id": "620b75f8",
   "metadata": {},
   "outputs": [
    {
     "name": "stdout",
     "output_type": "stream",
     "text": [
      "2883275221296\n"
     ]
    }
   ],
   "source": [
    "c=1\n",
    "print(id(c))"
   ]
  },
  {
   "cell_type": "code",
   "execution_count": 13,
   "id": "aaf456d9",
   "metadata": {},
   "outputs": [
    {
     "name": "stdout",
     "output_type": "stream",
     "text": [
      "2883275221328\n"
     ]
    }
   ],
   "source": [
    "c=c+1\n",
    "print(id(c))"
   ]
  },
  {
   "cell_type": "code",
   "execution_count": null,
   "id": "7d8a2871",
   "metadata": {},
   "outputs": [],
   "source": []
  }
 ],
 "metadata": {
  "kernelspec": {
   "display_name": "Python 3 (ipykernel)",
   "language": "python",
   "name": "python3"
  },
  "language_info": {
   "codemirror_mode": {
    "name": "ipython",
    "version": 3
   },
   "file_extension": ".py",
   "mimetype": "text/x-python",
   "name": "python",
   "nbconvert_exporter": "python",
   "pygments_lexer": "ipython3",
   "version": "3.9.13"
  }
 },
 "nbformat": 4,
 "nbformat_minor": 5
}
